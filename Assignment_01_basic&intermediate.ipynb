{
  "nbformat": 4,
  "nbformat_minor": 0,
  "metadata": {
    "colab": {
      "provenance": []
    },
    "kernelspec": {
      "name": "python3",
      "display_name": "Python 3"
    },
    "language_info": {
      "name": "python"
    }
  },
  "cells": [
    {
      "cell_type": "markdown",
      "source": [
        "***01_basics***"
      ],
      "metadata": {
        "id": "oRys_0YHHmmC"
      }
    },
    {
      "cell_type": "markdown",
      "source": [
        "**00 joke_bot**"
      ],
      "metadata": {
        "id": "wTVB6HJKHqda"
      }
    },
    {
      "cell_type": "code",
      "source": [
        "PROMPT = \"What you want?\"\n",
        "JOKE = \"Why do programmers prefer dark mode? Because light attracts bugs!\"\n",
        "SORRY = \"SORRY, I ONLY TELL JOKES\"\n",
        "def main():\n",
        "  user_input = input(PROMPT).lower()\n",
        "  if user_input == \"joke\":\n",
        "    print(JOKE)\n",
        "  else:\n",
        "    print(SORRY)\n",
        "main()\n",
        "\n",
        "\n"
      ],
      "metadata": {
        "colab": {
          "base_uri": "https://localhost:8080/"
        },
        "id": "c6QAFLVpIxPv",
        "outputId": "63e24af6-0f38-4534-c9e3-2db4fa67d18f"
      },
      "execution_count": null,
      "outputs": [
        {
          "output_type": "stream",
          "name": "stdout",
          "text": [
            "What you want?joke\n",
            "Why do programmers prefer dark mode? Because light attracts bugs!\n"
          ]
        }
      ]
    },
    {
      "cell_type": "markdown",
      "source": [
        "**01_double_it**"
      ],
      "metadata": {
        "id": "btsmE7zrJELG"
      }
    },
    {
      "cell_type": "code",
      "source": [
        "def double_it_until_100():\n",
        "  user_input = int(input(\"Enter a number to double it: \"))\n",
        "  while user_input <= 100:\n",
        "    user_input *= 2\n",
        "    print(user_input)\n",
        "\n",
        "double_it_until_100()"
      ],
      "metadata": {
        "colab": {
          "base_uri": "https://localhost:8080/"
        },
        "id": "Fu6erZzwJGAV",
        "outputId": "82912f65-4272-43ef-dc47-358386a15510"
      },
      "execution_count": null,
      "outputs": [
        {
          "output_type": "stream",
          "name": "stdout",
          "text": [
            "Enter a number to double it: 3\n",
            "6\n",
            "12\n",
            "24\n",
            "48\n",
            "96\n",
            "192\n"
          ]
        }
      ]
    },
    {
      "cell_type": "markdown",
      "source": [
        "**02 liftoff**"
      ],
      "metadata": {
        "id": "YVrL2paAJN8O"
      }
    },
    {
      "cell_type": "code",
      "source": [
        "import time\n",
        "def liftoff(x:int):\n",
        "  for countdown in range(x, 0, -1):\n",
        "    print(countdown)\n",
        "    time.sleep(1)\n",
        "  print(\"LiftOff 😎\")\n",
        "\n",
        "liftoff(15)"
      ],
      "metadata": {
        "colab": {
          "base_uri": "https://localhost:8080/"
        },
        "id": "qL7pU9DBJTAt",
        "outputId": "dd110a52-1c63-430b-958d-33a15a4d31e9"
      },
      "execution_count": null,
      "outputs": [
        {
          "output_type": "stream",
          "name": "stdout",
          "text": [
            "15\n",
            "14\n",
            "13\n",
            "12\n",
            "11\n",
            "10\n",
            "9\n",
            "8\n",
            "7\n",
            "6\n",
            "5\n",
            "4\n",
            "3\n",
            "2\n",
            "1\n",
            "LiftOff 😎\n"
          ]
        }
      ]
    },
    {
      "cell_type": "markdown",
      "source": [
        "**03 guess_my_number**"
      ],
      "metadata": {
        "id": "2xXZ2vOtJkbN"
      }
    },
    {
      "cell_type": "code",
      "source": [
        "import random\n",
        "def guess_my_number():\n",
        "  user_input = 0\n",
        "  random_number = random.randint(1, 100)\n",
        "\n",
        "  while user_input != random_number:\n",
        "    user_input = int(input(\"Enter a number between 1 and 100: \"))\n",
        "    if user_input < random_number:\n",
        "      print(f\"{ user_input} Too low, try again\")\n",
        "    else:\n",
        "      print(f\"{ user_input} Too high, try again\")\n",
        "\n",
        "  print(f\"{user_input} Congrats, you guessed it, {random_number}\")\n",
        "\n",
        "\n",
        "guess_my_number()\n"
      ],
      "metadata": {
        "colab": {
          "base_uri": "https://localhost:8080/"
        },
        "id": "GLjUrQHgJoQ1",
        "outputId": "b12c3818-958b-4fe9-fbf3-f158baa97347"
      },
      "execution_count": null,
      "outputs": [
        {
          "output_type": "stream",
          "name": "stdout",
          "text": [
            "Enter a number between 1 and 100: 45\n",
            "45 Too low, try again\n",
            "Enter a number between 1 and 100: 78\n",
            "78 Too high, try again\n",
            "Enter a number between 1 and 100: 56\n",
            "56 Too low, try again\n",
            "Enter a number between 1 and 100: 68\n",
            "68 Too low, try again\n",
            "Enter a number between 1 and 100: 75\n",
            "75 Too high, try again\n",
            "Enter a number between 1 and 100: 70\n",
            "70 Too low, try again\n",
            "Enter a number between 1 and 100: 72\n",
            "72 Too high, try again\n",
            "Enter a number between 1 and 100: 71\n",
            "71 Too high, try again\n",
            "71 Congrats, you guessed it, 71\n"
          ]
        }
      ]
    },
    {
      "cell_type": "markdown",
      "source": [
        "**04_random_numbers**"
      ],
      "metadata": {
        "id": "ze-OwtuEJ9NE"
      }
    },
    {
      "cell_type": "code",
      "source": [
        "import random\n",
        "\n",
        "def main():\n",
        "  for _ in range(10):\n",
        "    random_number = random.randint(1, 100)\n",
        "    print(random_number, end=\" \")\n",
        "\n",
        "main()"
      ],
      "metadata": {
        "colab": {
          "base_uri": "https://localhost:8080/"
        },
        "id": "k3M4V68nKA0c",
        "outputId": "5825c464-4706-44fb-a1cf-5bfb030dceec"
      },
      "execution_count": null,
      "outputs": [
        {
          "output_type": "stream",
          "name": "stdout",
          "text": [
            "11 5 4 51 83 53 26 93 54 13 "
          ]
        }
      ]
    },
    {
      "cell_type": "markdown",
      "source": [
        "***02_intermediate***"
      ],
      "metadata": {
        "id": "HPmh7ij5KHeb"
      }
    },
    {
      "cell_type": "markdown",
      "source": [
        "**Control Flow for Console**"
      ],
      "metadata": {
        "id": "hVVbWiuYKOyN"
      }
    },
    {
      "cell_type": "code",
      "source": [
        "# HIGH LOW GAME.\n",
        "import random\n",
        "\n",
        "\n",
        "\n",
        "def main():\n",
        "\n",
        "  total_rounds = 5\n",
        "  player_points = 0\n",
        "  computer_points = 0\n",
        "  for round in range(total_rounds):\n",
        "\n",
        "    users_number = random.randint(1, 100)\n",
        "    computers_number = random.randint(1,100)\n",
        "\n",
        "    print(\"-\" * 30)\n",
        "    print(\"\\nWELCOME TO HIGH LOW GAME.\")\n",
        "\n",
        "    print(\"_\" * 30)\n",
        "\n",
        "    print(f\"Round {round}\\n\")\n",
        "    print(f\"Your points are {player_points}\")\n",
        "    print(f\"Computer points are {computer_points}\\n\")\n",
        "\n",
        "    print(f\"your number is {users_number}\\n\\n\")\n",
        "\n",
        "    print(\"Do you think your number is Higher, Lower Or Equal (H-> high, L-> low, E -> Equal ): \")\n",
        "    user_input = input().lower()\n",
        "\n",
        "    if user_input == 'h' and users_number > computers_number:\n",
        "      print(f\"You were right! The computer's number was, LOWER, {computers_number} \\n\")\n",
        "      player_points += 1\n",
        "\n",
        "    elif user_input == 'l' and users_number < computers_number:\n",
        "      print(f\"You were right! The computer's number was, HIGHER, {computers_number}\\n\")\n",
        "      player_points += 1\n",
        "\n",
        "    elif user_input == 'e' and users_number == computers_number:\n",
        "      print(f\"You were right! The computer's number was, Equal {computers_number} 'computer got point'\\n\")\n",
        "      computer_points += 1\n",
        "\n",
        "    else:\n",
        "      print(f\"You were wrong!, computer's number was {computers_number}\")\n",
        "      computer_points += 1\n",
        "\n",
        "  if player_points > computer_points:\n",
        "    print(\"YOU WON!\")\n",
        "  elif player_points == computer_points:\n",
        "    print(\"TIE\")\n",
        "  else:\n",
        "    print(\"Computer won!\")\n",
        "\n",
        "\n",
        "main()\n"
      ],
      "metadata": {
        "colab": {
          "base_uri": "https://localhost:8080/"
        },
        "id": "ox8wkyTQKV7T",
        "outputId": "d3670679-0595-4ef7-f96f-795902bee5b3"
      },
      "execution_count": null,
      "outputs": [
        {
          "output_type": "stream",
          "name": "stdout",
          "text": [
            "------------------------------\n",
            "\n",
            "WELCOME TO HIGH LOW GAME.\n",
            "______________________________\n",
            "Round 0\n",
            "\n",
            "Your points are 0\n",
            "Computer points are 0\n",
            "\n",
            "your number is 98\n",
            "\n",
            "\n",
            "Do you think your number is Higher, Lower Or Equal (H-> high, L-> low, E -> Equal ): \n",
            "higher\n",
            "You were wrong!, computer's number was 44\n",
            "------------------------------\n",
            "\n",
            "WELCOME TO HIGH LOW GAME.\n",
            "______________________________\n",
            "Round 1\n",
            "\n",
            "Your points are 0\n",
            "Computer points are 1\n",
            "\n",
            "your number is 26\n",
            "\n",
            "\n",
            "Do you think your number is Higher, Lower Or Equal (H-> high, L-> low, E -> Equal ): \n",
            "lower\n",
            "You were wrong!, computer's number was 81\n",
            "------------------------------\n",
            "\n",
            "WELCOME TO HIGH LOW GAME.\n",
            "______________________________\n",
            "Round 2\n",
            "\n",
            "Your points are 0\n",
            "Computer points are 2\n",
            "\n",
            "your number is 79\n",
            "\n",
            "\n",
            "Do you think your number is Higher, Lower Or Equal (H-> high, L-> low, E -> Equal ): \n",
            "equal\n",
            "You were wrong!, computer's number was 91\n",
            "------------------------------\n",
            "\n",
            "WELCOME TO HIGH LOW GAME.\n",
            "______________________________\n",
            "Round 3\n",
            "\n",
            "Your points are 0\n",
            "Computer points are 3\n",
            "\n",
            "your number is 83\n",
            "\n",
            "\n",
            "Do you think your number is Higher, Lower Or Equal (H-> high, L-> low, E -> Equal ): \n",
            "lower\n",
            "You were wrong!, computer's number was 49\n",
            "------------------------------\n",
            "\n",
            "WELCOME TO HIGH LOW GAME.\n",
            "______________________________\n",
            "Round 4\n",
            "\n",
            "Your points are 0\n",
            "Computer points are 4\n",
            "\n",
            "your number is 70\n",
            "\n",
            "\n",
            "Do you think your number is Higher, Lower Or Equal (H-> high, L-> low, E -> Equal ): \n",
            "\n",
            "You were wrong!, computer's number was 63\n",
            "Computer won!\n"
          ]
        }
      ]
    },
    {
      "cell_type": "markdown",
      "source": [
        "**Intro to Python**"
      ],
      "metadata": {
        "id": "mpgvDKE6Ki4S"
      }
    },
    {
      "cell_type": "code",
      "source": [
        "# WEIGHT ON DIFFERENT PLANETS\n",
        "\n",
        "# weight in percentages on these planets, as compared to earth\n",
        "\n",
        "MERCURY =  37.6\n",
        "\n",
        "VENUS = 88.9\n",
        "\n",
        "MARS=  37.8\n",
        "\n",
        "JUPITER =  236.0\n",
        "\n",
        "SATURN =  108.1\n",
        "\n",
        "URANUS =  81.5\n",
        "\n",
        "NEPTUNE =  114.0\n",
        "\n",
        "\n",
        "def main():\n",
        "  user_input = float(input(\"Enter a weight on Earth: \"))\n",
        "\n",
        "  print(\"Select planet\\n\\n\")\n",
        "  print( \"-\" * 50)\n",
        "\n",
        "  print(\"A. Mercury\\n\")\n",
        "  print(\"B. Venus\\n\")\n",
        "  print(\"C. Mars\\n\")\n",
        "  print(\"D. Jupiter\\n\")\n",
        "  print(\"E. Saturn\\n\")\n",
        "  print(\"F. Uranus\\n\")\n",
        "  print(\"g. Neptune\\n\")\n",
        "  choise = input(\"Your choice: \").lower()\n",
        "\n",
        "  match choise:\n",
        "    case 'a':\n",
        "      weight = user_input * (MERCURY / 100)\n",
        "      print(f\"Your weight on Mercury is {round(weight,2)}\")\n",
        "    case 'b':\n",
        "      weight = user_input * (VENUS / 100)\n",
        "      print(f\"Your weight on Venus is {round(weight,2)}\")\n",
        "    case 'c':\n",
        "      weight = user_input * (MARS / 100)\n",
        "      print(f\"Your weight on MARS is {round(weight,2)}\")\n",
        "\n",
        "    case 'd':\n",
        "      weight = user_input * (JUPITER / 100)\n",
        "      print(f\"Your weight on Jupiter is {round(weight,2)}\")\n",
        "    case 'e':\n",
        "      weight = user_input * (SATURN / 100)\n",
        "      print(f\"Your weight on Saturn is {round(weight,2)}\")\n",
        "    case 'f':\n",
        "      weight = user_input * (URANUS / 100)\n",
        "      print(f\"Your weight on Uranus is {round(weight,2)}\")\n",
        "    case 'g':\n",
        "      weight = user_input * (NEPTUNE / 100)\n",
        "      print(f\"Your weight on Neptune is {round(weight,2)}\")\n",
        "    case _:\n",
        "      print(\"Invalid input\")\n",
        "\n",
        "main()\n",
        "\n"
      ],
      "metadata": {
        "colab": {
          "base_uri": "https://localhost:8080/"
        },
        "id": "MmFkrsp2K0O6",
        "outputId": "4304f4ab-ff29-4ae0-98fe-3fc2b0812f2d"
      },
      "execution_count": null,
      "outputs": [
        {
          "output_type": "stream",
          "name": "stdout",
          "text": [
            "Enter a weight on Earth: 90\n",
            "Select planet\n",
            "\n",
            "\n",
            "--------------------------------------------------\n",
            "A. Mercury\n",
            "\n",
            "B. Venus\n",
            "\n",
            "C. Mars\n",
            "\n",
            "D. Jupiter\n",
            "\n",
            "E. Saturn\n",
            "\n",
            "F. Uranus\n",
            "\n",
            "g. Neptune\n",
            "\n",
            "Your choice: c\n",
            "Your weight on MARS is 34.02\n"
          ]
        }
      ]
    },
    {
      "cell_type": "markdown",
      "source": [
        "**Lists and Dicts**"
      ],
      "metadata": {
        "id": "bnDMo_hMLBQp"
      }
    },
    {
      "cell_type": "code",
      "source": [
        "\n",
        "# Problem #1: List Practice\n",
        "def list_practice():\n",
        "  fruit_list = ['apple','banana','mango','grape','cherry']\n",
        "\n",
        "  print(len(fruit_list))\n",
        "\n",
        "\n",
        "  fruit_list.append(\"orange\")\n",
        "\n",
        "  print(fruit_list)\n",
        "\n",
        "list_practice()\n"
      ],
      "metadata": {
        "colab": {
          "base_uri": "https://localhost:8080/"
        },
        "id": "wdFZEdLiLLRj",
        "outputId": "bfa18c0e-1ed6-4390-dba0-683a9fd0e8e7"
      },
      "execution_count": null,
      "outputs": [
        {
          "output_type": "stream",
          "name": "stdout",
          "text": [
            "5\n",
            "['apple', 'banana', 'mango', 'grape', 'cherry', 'orange']\n"
          ]
        }
      ]
    },
    {
      "cell_type": "code",
      "source": [
        "# Problem #2: Index Game\n",
        "\n",
        "def accessing_elements(lst: list, index: int):\n",
        "  if index >= 0 and index < len(lst):\n",
        "    return lst[index]\n",
        "  else:\n",
        "    return \"Inappropriate index\"\n",
        "\n",
        "\n",
        "def slicing(lst: list, start: int, end: int):\n",
        "  if start < 0 or end > len(lst) or start > end:\n",
        "    return \"Inappropriate slicing\"\n",
        "  return lst[start:end]\n",
        "\n",
        "\n",
        "\n",
        "\n",
        "def list_manipulation():\n",
        "  lst = [\"hello\", 19 , \"world\", \"gemini\", 2006]\n",
        "\n",
        "  print(accessing_elements(lst, 0))\n",
        "\n",
        "  # slicing list\n",
        "  print(slicing(lst, 0, 3))\n",
        "\n",
        "list_manipulation()"
      ],
      "metadata": {
        "colab": {
          "base_uri": "https://localhost:8080/"
        },
        "id": "tkG-7HEgLjyY",
        "outputId": "fcede2bb-a149-40b0-d1b1-ee0fe6af8fa2"
      },
      "execution_count": null,
      "outputs": [
        {
          "output_type": "stream",
          "name": "stdout",
          "text": [
            "hello\n",
            "['hello', 19, 'world']\n"
          ]
        }
      ]
    },
    {
      "cell_type": "code",
      "source": [
        "def accessing_elements(lst: list):\n",
        "  print(lst)\n",
        "  index = int(input(\"Enter index of element you want: \"))\n",
        "  if index >= 0 and index < len(lst):\n",
        "    return lst[index]\n",
        "  else:\n",
        "    return \"Inappropriate index\"\n",
        "\n",
        "\n",
        "\n",
        "def slicing(lst: list):\n",
        "  print(lst)\n",
        "  start = int(input(\"Enter start index: \"))\n",
        "  end = int(input(\"Enter end index: \"))\n",
        "\n",
        "  if start < 0 or end > len(lst) or start > end:\n",
        "    return \"Inappropriate slicing\"\n",
        "  return lst[start:end]\n",
        "\n",
        "\n",
        "\n",
        "def modify_list(lst: list):\n",
        "  print(lst)\n",
        "\n",
        "  print(\"Select Operation\\n\")\n",
        "  print(\"1. Add element one element (at last)\")\n",
        "  print(\"-\" * 50)\n",
        "  print(\"2. Add element multiple elements (at last)\")\n",
        "  print(\"-\" * 50)\n",
        "  print(\"3. Insert element at arbitrary position\")\n",
        "  print(\"-\" * 50)\n",
        "  print(\"4. Remove element (from last)\")\n",
        "  print(\"-\" * 50)\n",
        "  print(\"5. Remove element of your choice\")\n",
        "  print(\"-\" * 50)\n",
        "  print(\"6. Replace element with your choice\")\n",
        "  print(\"-\" * 50)\n",
        "  print(\"7. Sort in ascending order\")\n",
        "  print(\"-\" * 50)\n",
        "  print(\"8. Sort in descending (reveresed) order\")\n",
        "  print(\"-\" * 50)\n",
        "\n",
        "  user_choice = int(input(\"Enter your choice: \"))\n",
        "  match user_choice:\n",
        "\n",
        "    case 1:\n",
        "      element = input(\"Enter element to add: \")\n",
        "      lst.append(element)\n",
        "      print( \"UPDATED =====>\",lst ) #updated list\n",
        "\n",
        "    case 2:\n",
        "      element = input(\"Enter element to add separate by ',': \")\n",
        "      elements = element.split(',')\n",
        "      lst.extend(element)\n",
        "      print( \"UPDATED =====>\",lst ) #updated list\n",
        "\n",
        "    case 3:\n",
        "      index = int(input(\"Give your INDEX choice (Note: index starts from 0): \"))\n",
        "      element = input(\"Enter value to add : \")\n",
        "      lst[index] = element\n",
        "      print( \"UPDATED =====>\",lst ) #updated list\n",
        "\n",
        "    case 4:\n",
        "      removed = lst.pop()\n",
        "      print( \"REMOVED =====>\",removed ) #removed element\n",
        "      print( \"UPDATED =====>\",lst ) #updated list\n",
        "\n",
        "    case 5:\n",
        "      element = input(\"Enter element you want to  remove: \")\n",
        "      lst.remove(element)\n",
        "      print( \"UPDATED =====>\",lst ) #updated list\n",
        "\n",
        "    case 6:\n",
        "      index = int(input(\"Give index of element your wanna replace with your value: \"))\n",
        "      value = input(\"Give the new value for that index: \")\n",
        "      lst[index] = value\n",
        "      print( \"UPDATED =====>\",lst ) #updated list\n",
        "\n",
        "    case 7:\n",
        "      lst.sort()\n",
        "      print( \"sorted =====>\",lst ) #updated list\n",
        "    case 8:\n",
        "      lst.reverse()\n",
        "      print( \"Reversed =====>\",lst ) #updated list\n",
        "\n",
        "\n",
        "def game_with_list():\n",
        "  lst = [20, 12, 19, 33, 2006, 303]\n",
        "\n",
        "  print(\"1. access\")\n",
        "  print(\"2. modify\")\n",
        "  print(\"3. slice\")\n",
        "  user_choice = int(input(\"Select operation (just enter its number): \"))\n",
        "\n",
        "  if user_choice == 1:\n",
        "    print(accessing_elements(lst))\n",
        "\n",
        "  elif user_choice == 2:\n",
        "    modify_list(lst)\n",
        "\n",
        "  elif user_choice == 3:\n",
        "    print(slicing(lst))\n",
        "\n",
        "game_with_list()"
      ],
      "metadata": {
        "colab": {
          "base_uri": "https://localhost:8080/"
        },
        "id": "EXFgsYTAL3fZ",
        "outputId": "5beb892b-40ca-4221-a646-5a2875c4b457"
      },
      "execution_count": null,
      "outputs": [
        {
          "output_type": "stream",
          "name": "stdout",
          "text": [
            "1. access\n",
            "2. modify\n",
            "3. slice\n",
            "Select operation (just enter its number): 2\n",
            "[20, 12, 19, 33, 2006, 303]\n",
            "Select Operation\n",
            "\n",
            "1. Add element one element (at last)\n",
            "--------------------------------------------------\n",
            "2. Add element multiple elements (at last)\n",
            "--------------------------------------------------\n",
            "3. Insert element at arbitrary position\n",
            "--------------------------------------------------\n",
            "4. Remove element (from last)\n",
            "--------------------------------------------------\n",
            "5. Remove element of your choice\n",
            "--------------------------------------------------\n",
            "6. Replace element with your choice\n",
            "--------------------------------------------------\n",
            "7. Sort in ascending order\n",
            "--------------------------------------------------\n",
            "8. Sort in descending (reveresed) order\n",
            "--------------------------------------------------\n",
            "Enter your choice: 2\n",
            "Enter element to add separate by ',': '2','5'\n",
            "UPDATED =====> [20, 12, 19, 33, 2006, 303, \"'\", '2', \"'\", ',', \"'\", '5', \"'\"]\n"
          ]
        }
      ]
    }
  ]
}