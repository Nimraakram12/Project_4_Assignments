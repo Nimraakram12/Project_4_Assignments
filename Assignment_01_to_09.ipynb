{
  "cells": [
    {
      "cell_type": "markdown",
      "metadata": {
        "id": "IJAWgjyKNTy9"
      },
      "source": [
        "**Project 1: Mad libs**"
      ]
    },
    {
      "cell_type": "code",
      "execution_count": null,
      "metadata": {
        "colab": {
          "base_uri": "https://localhost:8080/"
        },
        "id": "uhVOvR5xNdpr",
        "outputId": "fba9222b-5015-4d35-a3ea-bfb9ab1603b6"
      },
      "outputs": [
        {
          "name": "stdout",
          "output_type": "stream",
          "text": [
            "\n",
            "Enter an adjective: shores\n",
            "\n",
            "Enter a noun: explorer\n",
            "\n",
            "Enter a verb: dig\n",
            "\n",
            "Enter a place: shadowspire\n",
            "\n",
            "Enter an adverb: eagerly\n",
            "\n",
            "Here's your Mad Libs story:\n",
            "In a shores realm called shadowspire, a brave explorer decided to dig eagerly through enchanted forests. Along the way, they discovered a magical portal that whispered ancient secrets. With a shores heart, the explorer leaped in and found themselves diging among talking stars!\n"
          ]
        }
      ],
      "source": [
        "def mad_libs():\n",
        "\n",
        "    adjective = input(\"\\nEnter an adjective: \")\n",
        "    noun = input(\"\\nEnter a noun: \")\n",
        "    verb = input(\"\\nEnter a verb: \")\n",
        "    place = input(\"\\nEnter a place: \")\n",
        "    adverb = input(\"\\nEnter an adverb: \")\n",
        "\n",
        "\n",
        "    story = (\n",
        "        f\"In a {adjective} realm called {place}, a brave {noun} decided to {verb} {adverb} \"\n",
        "        f\"through enchanted forests. Along the way, they discovered a magical portal \"\n",
        "        f\"that whispered ancient secrets. With a {adjective} heart, the {noun} leaped in \"\n",
        "        f\"and found themselves {verb}ing among talking stars!\"\n",
        "    )\n",
        "\n",
        "    print(\"\\nHere's your Mad Libs story:\")\n",
        "    print(story)\n",
        "\n",
        "if __name__ == '__main__':\n",
        "    mad_libs()"
      ]
    },
    {
      "cell_type": "markdown",
      "metadata": {
        "id": "KvIojXj1OTLi"
      },
      "source": [
        "**Project 2: Guess the Number Game Python Project (user)**"
      ]
    },
    {
      "cell_type": "code",
      "execution_count": null,
      "metadata": {
        "colab": {
          "base_uri": "https://localhost:8080/"
        },
        "id": "Vy-oprDvObvh",
        "outputId": "237b9ba5-6415-47a4-f504-3f5f99e78d60"
      },
      "outputs": [
        {
          "name": "stdout",
          "output_type": "stream",
          "text": [
            "\n",
            "Is 8 too high (H), too low (L), or correct (C)?? h\n",
            "\n",
            "Is 2 too high (H), too low (L), or correct (C)?? l\n",
            "\n",
            "Is 3 too high (H), too low (L), or correct (C)?? c\n",
            "Yay! The computer guessed your number, 3, correctly! 😎\n"
          ]
        }
      ],
      "source": [
        "import random\n",
        "def computer_guess(x: int):\n",
        "  low = 1\n",
        "  high = x\n",
        "  feedback = ''\n",
        "  while feedback != 'c' and low != high:\n",
        "    guess = random.randint(low, high)\n",
        "    feedback = input(f'\\nIs {guess} too high (H), too low (L), or correct (C)?? ').lower()\n",
        "    if feedback == 'h':\n",
        "      high = guess - 1\n",
        "    elif feedback == 'l':\n",
        "      low = guess + 1\n",
        "\n",
        "  print(f'Yay! The computer guessed your number, {guess}, correctly! 😎')\n",
        "\n",
        "computer_guess(10)\n"
      ]
    },
    {
      "cell_type": "markdown",
      "metadata": {
        "id": "RJgWICepOlOo"
      },
      "source": [
        "**Project 2: Guess the Number Game Python Project (computer)**"
      ]
    },
    {
      "cell_type": "code",
      "execution_count": null,
      "metadata": {
        "colab": {
          "base_uri": "https://localhost:8080/"
        },
        "id": "-RyTnu7kOq7Y",
        "outputId": "20d9b055-cf70-4465-b399-1f2ff45e5823"
      },
      "outputs": [
        {
          "name": "stdout",
          "output_type": "stream",
          "text": [
            "Guess a number between 1 and 10: 7\n",
            " guess again. Too low.\n",
            "Guess a number between 1 and 10: 8\n",
            " guess again. Too low.\n",
            "Guess a number between 1 and 10: 9\n",
            " guess again. Too low.\n",
            "Guess a number between 1 and 10: 10\n",
            "Yay, congrats. You have guessed the number 10 correctly 😎!!\n"
          ]
        }
      ],
      "source": [
        "def guess(x):\n",
        "  random_number = random.randint(1, x)\n",
        "  guess = 0\n",
        "  while guess != random_number:\n",
        "    guess = int(input(f'Guess a number between 1 and {x}: '))\n",
        "    if guess < random_number:\n",
        "      print(' guess again. Too low.')\n",
        "    elif guess > random_number:\n",
        "      print(' guess again. Too high.')\n",
        "\n",
        "  print(f'Yay, congrats. You have guessed the number {random_number} correctly 😎!!')\n",
        "\n",
        "guess(10)"
      ]
    },
    {
      "cell_type": "markdown",
      "metadata": {
        "id": "hGiAKwRbO49_"
      },
      "source": [
        "**Project 4: Rock, paper, scissors Python Project**"
      ]
    },
    {
      "cell_type": "code",
      "execution_count": null,
      "metadata": {
        "colab": {
          "base_uri": "https://localhost:8080/"
        },
        "id": "W7cLNeaBO8vH",
        "outputId": "80600d69-d689-4118-8079-666310be690d"
      },
      "outputs": [
        {
          "name": "stdout",
          "output_type": "stream",
          "text": [
            "rock, paper, or scissor?: rock\n",
            "Draw!! Computer: rock   Player: rock \n"
          ]
        }
      ],
      "source": [
        "def rock_paper_scissor():\n",
        "  rock_paper_scissor = [\"rock\", \"paper\", \"scissor\"]\n",
        "  computer = random.choice(rock_paper_scissor)\n",
        "  player_choice = \"\"\n",
        "  while player_choice not in rock_paper_scissor:\n",
        "    player_choice = input(\"rock, paper, or scissor?: \").lower()\n",
        "    if player_choice == computer:\n",
        "      print(f\"Draw!! Computer: {computer}   Player: {player_choice} \")\n",
        "      break\n",
        "\n",
        "    if player_choice == \"rock\" and computer == \"scissor\" or player_choice == \"paper\" and computer == \"rock\" or player_choice == \"scissor\" and computer == \"paper\":\n",
        "      print(f\"PLayer wins Computer: {computer}   Player: {player_choice}\")\n",
        "      break\n",
        "\n",
        "    else:\n",
        "      print(f\"Computer wins Computer: {computer}   Player: {player_choice}\")\n",
        "      break\n",
        "\n",
        "rock_paper_scissor()\n"
      ]
    },
    {
      "cell_type": "markdown",
      "metadata": {
        "id": "3Xi-Mjd8PCRo"
      },
      "source": [
        "**Project 5: Hangman Python Project**"
      ]
    },
    {
      "cell_type": "code",
      "source": [
        "import random\n",
        "\n",
        "words = ['python', 'java', 'javascript', 'ruby', 'csharp', 'swift', 'kotlin', 'php', 'html', 'css']\n",
        "word = random.choice(words)\n",
        "guessed_letters = []\n",
        "attempt = 6\n",
        "\n",
        "print(\"Welcome to Hangman Game!\")\n",
        "print(\"_\" * len(word))\n",
        "\n",
        "while attempt > 0:\n",
        "    guess = input(\"\\nGuess a letter: \").lower()\n",
        "    if len(guess) != 1 or not guess.isalpha():\n",
        "        print(\"Please enter only one letter.\")\n",
        "        continue\n",
        "    if guess in guessed_letters:\n",
        "        print(\"You have already guessed that letter. Choose another one.\")\n",
        "        continue\n",
        "    guessed_letters.append(guess)\n",
        "\n",
        "    if guess in word:\n",
        "        print(\"Good job! You guessed the letter correctly.\")\n",
        "    else:\n",
        "        attempt -= 1\n",
        "        print(f\"Sorry! The letter {guess} is not in the word. You have {attempt} attempts left.\")\n",
        "\n",
        "    displayed_word = \"\".join([letter if letter in guessed_letters else \"_\" for letter in word])\n",
        "    print(displayed_word)\n",
        "\n",
        "    if \"_\" not in displayed_word:\n",
        "        print(f\"Congratulations! You have guessed the word: {word}\")\n",
        "        break\n",
        "else:\n",
        "    print(f\"Game Over! The correct word is: {word}\")"
      ],
      "metadata": {
        "colab": {
          "base_uri": "https://localhost:8080/"
        },
        "id": "JlZw1XlFZInl",
        "outputId": "25b1bb5b-718a-4b0a-8ac9-b9d113b68f4a"
      },
      "execution_count": null,
      "outputs": [
        {
          "output_type": "stream",
          "name": "stdout",
          "text": [
            "Welcome to Hangman Game!\n",
            "_____\n",
            "\n",
            "Guess a letter: p\n",
            "Sorry! The letter p is not in the word. You have 5 attempts left.\n",
            "_____\n",
            "\n",
            "Guess a letter: k\n",
            "Sorry! The letter k is not in the word. You have 4 attempts left.\n",
            "_____\n",
            "\n",
            "Guess a letter: j\n",
            "Sorry! The letter j is not in the word. You have 3 attempts left.\n",
            "_____\n",
            "\n",
            "Guess a letter: h\n",
            "Sorry! The letter h is not in the word. You have 2 attempts left.\n",
            "_____\n",
            "\n",
            "Guess a letter: a\n",
            "Sorry! The letter a is not in the word. You have 1 attempts left.\n",
            "_____\n",
            "\n",
            "Guess a letter: r\n",
            "Sorry! The letter r is not in the word. You have 0 attempts left.\n",
            "_____\n",
            "Game Over! The correct word is: swift\n"
          ]
        }
      ]
    },
    {
      "cell_type": "markdown",
      "source": [
        "Project 8: Create a python streamlit BMI calculator web app in just 6 minutes"
      ],
      "metadata": {
        "id": "WSV3b8Z8aaIA"
      }
    },
    {
      "cell_type": "markdown",
      "source": [
        "Repo and streamlit link in readme file."
      ],
      "metadata": {
        "id": "d7p1aZLwZcus"
      }
    },
    {
      "cell_type": "markdown",
      "source": [
        "Project 9: Build a python website in 15 minutes using streamlit"
      ],
      "metadata": {
        "id": "6TfG5K6Iaz3F"
      }
    },
    {
      "cell_type": "markdown",
      "source": [
        "Repo and streamlit link in readme file."
      ],
      "metadata": {
        "id": "htqnK3k8grIt"
      }
    }
  ],
  "metadata": {
    "colab": {
      "provenance": []
    },
    "kernelspec": {
      "display_name": "Python 3",
      "name": "python3"
    },
    "language_info": {
      "name": "python"
    }
  },
  "nbformat": 4,
  "nbformat_minor": 0
}