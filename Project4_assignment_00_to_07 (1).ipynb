{
  "nbformat": 4,
  "nbformat_minor": 0,
  "metadata": {
    "colab": {
      "provenance": []
    },
    "kernelspec": {
      "name": "python3",
      "display_name": "Python 3"
    },
    "language_info": {
      "name": "python"
    }
  },
  "cells": [
    {
      "cell_type": "markdown",
      "source": [
        "**00_intro_python**"
      ],
      "metadata": {
        "id": "PKpvz-M79XFw"
      }
    },
    {
      "cell_type": "markdown",
      "source": [
        "**01_add_two_numbers**"
      ],
      "metadata": {
        "id": "olFqsD3k9bKC"
      }
    },
    {
      "cell_type": "code",
      "source": [
        "def main():\n",
        "\n",
        "    num1 = int(input(\"Enter the first number: \"))\n",
        "\n",
        "\n",
        "    num2 = int(input(\"Enter the second number: \"))\n",
        "\n",
        "\n",
        "    total = num1 + num2\n",
        "\n",
        "\n",
        "    print(f\"The sum of {num1} and {num2} is {total}\")\n",
        "\n",
        "\n",
        "if __name__ == \"__main__\":\n",
        "    main()"
      ],
      "metadata": {
        "colab": {
          "base_uri": "https://localhost:8080/"
        },
        "id": "K9CXDz3p9g_n",
        "outputId": "49899ac2-b3e0-4e2f-fb49-7f9c3099d919"
      },
      "execution_count": null,
      "outputs": [
        {
          "output_type": "stream",
          "name": "stdout",
          "text": [
            "Enter the first number: 2\n",
            "Enter the second number: 5\n",
            "The sum of 2 and 5 is 7\n"
          ]
        }
      ]
    },
    {
      "cell_type": "markdown",
      "source": [
        "**02_agreement_bot**"
      ],
      "metadata": {
        "id": "U_iF-hwv9w0Y"
      }
    },
    {
      "cell_type": "code",
      "source": [
        "def main():\n",
        "\n",
        "    animal = input(\"What is your favorite animal? \")\n",
        "\n",
        "\n",
        "    print(f\"My favorite animal is also {animal}!\")\n",
        "\n",
        "\n",
        "if __name__ == \"__main__\":\n",
        "    main()"
      ],
      "metadata": {
        "colab": {
          "base_uri": "https://localhost:8080/"
        },
        "id": "1Rgi2--w99Jd",
        "outputId": "415edc01-d8b3-42ba-dd84-9bf11a3a86ea"
      },
      "execution_count": null,
      "outputs": [
        {
          "output_type": "stream",
          "name": "stdout",
          "text": [
            "What is your favorite animal? cow\n",
            "My favorite animal is also cow!\n"
          ]
        }
      ]
    },
    {
      "cell_type": "markdown",
      "source": [
        "**03_fahrenheit_to_celsius**"
      ],
      "metadata": {
        "id": "20tjLn-K-GpW"
      }
    },
    {
      "cell_type": "code",
      "source": [
        "def main():\n",
        "  user_input = float(input(\"Enter temperature in Fahrenhite: \"))\n",
        "  temp_in_degrees = (user_input - 32) * 5.0/9.0\n",
        "  print(f\"{user_input} Fahrenhite is equal to {temp_in_degrees} degrees celcius\")\n",
        "\n",
        "if __name__ == \"__main__\":\n",
        "  main()\n"
      ],
      "metadata": {
        "colab": {
          "base_uri": "https://localhost:8080/"
        },
        "id": "ci8m-qwd-LU1",
        "outputId": "b5284d47-d8f1-4cec-f548-87f45534491b"
      },
      "execution_count": null,
      "outputs": [
        {
          "output_type": "stream",
          "name": "stdout",
          "text": [
            "Enter temperature in Fahrenhite: 20\n",
            "20.0 Fahrenhite is equal to -6.666666666666667 degrees celcius\n"
          ]
        }
      ]
    },
    {
      "cell_type": "markdown",
      "source": [
        "**04 how old are they**"
      ],
      "metadata": {
        "id": "5Kad0USR-Yed"
      }
    },
    {
      "cell_type": "code",
      "source": [
        "def main():\n",
        "  Anton = 21\n",
        "  Beth = Anton + 6\n",
        "  Chen = 20 + Beth\n",
        "  Drew = Chen + Anton\n",
        "  Ethan = Chen\n",
        "\n",
        "  print(f\"Anton is {Anton} years old\")\n",
        "  print(f\"Beth is {Beth} years old\")\n",
        "  print(f\"Chen is {Chen} years old\")\n",
        "  print(f\"Drew is {Drew} years old\")\n",
        "  print(f\"Ethan is {Ethan} years old\")\n",
        "\n",
        "if __name__ == \"__main__\":\n",
        "  main()"
      ],
      "metadata": {
        "colab": {
          "base_uri": "https://localhost:8080/"
        },
        "id": "D_AnFpQ--aj1",
        "outputId": "e15b2c57-1125-423a-d1c6-6c0246edb188"
      },
      "execution_count": null,
      "outputs": [
        {
          "output_type": "stream",
          "name": "stdout",
          "text": [
            "Anton is 21 years old\n",
            "Beth is 27 years old\n",
            "Chen is 47 years old\n",
            "Drew is 68 years old\n",
            "Ethan is 47 years old\n"
          ]
        }
      ]
    },
    {
      "cell_type": "markdown",
      "source": [
        "\n",
        "**05 triangle perimeter**"
      ],
      "metadata": {
        "id": "7vpm8x_x-hv0"
      }
    },
    {
      "cell_type": "code",
      "source": [
        "def main():\n",
        "  side_a = float(input(\"Enter side a: \"))\n",
        "  side_b = float(input(\"Enter side b: \"))\n",
        "  side_c = float(input(\"Enter side c: \"))\n",
        "\n",
        "  perimeter = side_a + side_b + side_c\n",
        "  print(f\"The perimeter of the triangle is {perimeter}\")\n",
        "\n",
        "if __name__ == \"__main__\":\n",
        "  main()"
      ],
      "metadata": {
        "colab": {
          "base_uri": "https://localhost:8080/"
        },
        "id": "nhsPg74--rHt",
        "outputId": "2bfc31a4-bb26-4051-ad5e-5aece3387d6a"
      },
      "execution_count": null,
      "outputs": [
        {
          "output_type": "stream",
          "name": "stdout",
          "text": [
            "Enter side a: 12\n",
            "Enter side b: 30\n",
            "Enter side c: 24\n",
            "The perimeter of the triangle is 66.0\n"
          ]
        }
      ]
    },
    {
      "cell_type": "markdown",
      "source": [
        "**06 square number**"
      ],
      "metadata": {
        "id": "7tz24NKX-wm8"
      }
    },
    {
      "cell_type": "code",
      "source": [
        "def main():\n",
        "  user_input = float(input(\"Enter a number: \"))\n",
        "  square = user_input * user_input\n",
        "  print(f\"{user_input} squared is {square}\")\n",
        "\n",
        "if __name__ == \"__main__\":\n",
        "   main()"
      ],
      "metadata": {
        "colab": {
          "base_uri": "https://localhost:8080/"
        },
        "id": "lJZ0iL44-45a",
        "outputId": "fc6ae1d6-fc18-4cfc-9dc3-ce0bd25b0d6c"
      },
      "execution_count": null,
      "outputs": [
        {
          "output_type": "stream",
          "name": "stdout",
          "text": [
            "Enter a number: 12\n",
            "12.0 squared is 144.0\n"
          ]
        }
      ]
    },
    {
      "cell_type": "markdown",
      "source": [
        "**01_expressions**"
      ],
      "metadata": {
        "id": "uNMpHN0U_BnM"
      }
    },
    {
      "cell_type": "markdown",
      "source": [
        "**01 dicesimulator**"
      ],
      "metadata": {
        "id": "JoDrcPyl_DxV"
      }
    },
    {
      "cell_type": "code",
      "source": [
        "import random\n",
        "\n",
        "def die_roll():\n",
        "   die1 = random.randint(1, 6)\n",
        "   die2 = random.randint(1, 6)\n",
        "\n",
        "   print(f\"Die 1: {die1}\")\n",
        "   print(f\"Die 2: {die2}\")\n",
        "   print(f\"Sum of both die: {die1 + die2}\")\n",
        "\n",
        "\n",
        "\n",
        "def main():\n",
        "  die_roll()\n",
        "  die_roll()\n",
        "  die_roll()\n",
        "\n",
        "if __name__ == \"__main__\":\n",
        "  main()"
      ],
      "metadata": {
        "colab": {
          "base_uri": "https://localhost:8080/"
        },
        "id": "2btcB4Ps_Jsb",
        "outputId": "f9fdb67a-5337-4983-d703-4e41745cd23f"
      },
      "execution_count": null,
      "outputs": [
        {
          "output_type": "stream",
          "name": "stdout",
          "text": [
            "Die 1: 4\n",
            "Die 2: 5\n",
            "Sum of both die: 9\n",
            "Die 1: 5\n",
            "Die 2: 6\n",
            "Sum of both die: 11\n",
            "Die 1: 3\n",
            "Die 2: 1\n",
            "Sum of both die: 4\n"
          ]
        }
      ]
    },
    {
      "cell_type": "markdown",
      "source": [
        "**02 e=mc2**"
      ],
      "metadata": {
        "id": "pR-UQejo_SdL"
      }
    },
    {
      "cell_type": "code",
      "source": [
        "def main():\n",
        "  user_input = float(input(\"Enter mass in KG: \"))\n",
        "  Energy = user_input * 299792458\n",
        "  print(f\"The energy in Joules is {Energy}\")\n",
        "\n",
        "if __name__ == \"__main__\":\n",
        "  main()\n"
      ],
      "metadata": {
        "colab": {
          "base_uri": "https://localhost:8080/"
        },
        "id": "fVsT673V_XhR",
        "outputId": "aa115eb3-23e2-4111-8559-a0bf31391576"
      },
      "execution_count": null,
      "outputs": [
        {
          "output_type": "stream",
          "name": "stdout",
          "text": [
            "Enter mass in KG: 12\n",
            "The energy in Joules is 3597509496.0\n"
          ]
        }
      ]
    },
    {
      "cell_type": "markdown",
      "source": [
        "**03 feet_to_inches**"
      ],
      "metadata": {
        "id": "_Sv3KRmr_jCJ"
      }
    },
    {
      "cell_type": "code",
      "source": [
        "def main():\n",
        "  user_input = float(input(\"Enter length in feet: \"))\n",
        "  inches = user_input * 12\n",
        "  print(f\"{user_input} feet = {inches} inches\")\n",
        "\n",
        "if __name__ == \"__main__\":\n",
        "  main()"
      ],
      "metadata": {
        "colab": {
          "base_uri": "https://localhost:8080/"
        },
        "id": "fLnswH4w_kwi",
        "outputId": "07854e6e-c636-4d5b-9887-f183ba8ae8ab"
      },
      "execution_count": null,
      "outputs": [
        {
          "output_type": "stream",
          "name": "stdout",
          "text": [
            "Enter length in feet: 12\n",
            "12.0 feet = 144.0 inches\n"
          ]
        }
      ]
    },
    {
      "cell_type": "markdown",
      "source": [
        "**04 pythagorean_theorem**"
      ],
      "metadata": {
        "id": "ZAl5-m9d_qsj"
      }
    },
    {
      "cell_type": "code",
      "source": [
        "import math\n",
        "\n",
        "def main():\n",
        "  base = float(input(\"Enter Measure of base: \"))\n",
        "  perpendicular = float(input(\"Enter Measure of perpendicular: \"))\n",
        "\n",
        "  hyp = math.sqrt(base**2 + perpendicular**2)\n",
        "\n",
        "  print(f\"Hypotenuse of triangle having base {base} and perpendicular {perpendicular} is: {hyp}\")\n",
        "\n",
        "if __name__ == \"__main__\":\n",
        "  main()"
      ],
      "metadata": {
        "colab": {
          "base_uri": "https://localhost:8080/"
        },
        "id": "3Mpg37IJ_v0w",
        "outputId": "6d17e20c-05f8-430c-e8be-ccd226f584d9"
      },
      "execution_count": null,
      "outputs": [
        {
          "output_type": "stream",
          "name": "stdout",
          "text": [
            "Enter Measure of base: 20\n",
            "Enter Measure of perpendicular: 12\n",
            "Hypotenuse of triangle having base 20.0 and perpendicular 12.0 is: 23.323807579381203\n"
          ]
        }
      ]
    },
    {
      "cell_type": "markdown",
      "source": [
        "**05 remainder_division**"
      ],
      "metadata": {
        "id": "c91suvKb_2gg"
      }
    },
    {
      "cell_type": "code",
      "source": [
        "def main():\n",
        "  first_num = int(input(\"Enter first number: \"))\n",
        "  second_num = int(input(\"Enter second number: \"))\n",
        "\n",
        "  if second_num == 0:\n",
        "    print(\"Cannot divide by zero\")\n",
        "    return\n",
        "  remainder = first_num % second_num\n",
        "  print(f\"The remainder of {first_num} divided by {second_num} = {remainder}\")\n",
        "if __name__ == \"__main__\":\n",
        "  main()\n"
      ],
      "metadata": {
        "colab": {
          "base_uri": "https://localhost:8080/"
        },
        "id": "rCcFVO_S_6T4",
        "outputId": "25e6b307-f068-4011-9e97-9c27b8a4a570"
      },
      "execution_count": null,
      "outputs": [
        {
          "output_type": "stream",
          "name": "stdout",
          "text": [
            "Enter first number: 12\n",
            "Enter second number: 3\n",
            "The remainder of 12 divided by 3 = 0\n"
          ]
        }
      ]
    },
    {
      "cell_type": "markdown",
      "source": [
        "**06 rolldice**"
      ],
      "metadata": {
        "id": "wsJWDggbAYV2"
      }
    },
    {
      "cell_type": "code",
      "source": [
        "import random\n",
        "\n",
        "def main():\n",
        "    die_roll()\n",
        "\n",
        "\n",
        "if __name__ == '__main__':\n",
        "    main()\n"
      ],
      "metadata": {
        "colab": {
          "base_uri": "https://localhost:8080/"
        },
        "id": "zPB8cVCXAfdu",
        "outputId": "8faa6e56-d383-4b00-a022-cafe1e500a21"
      },
      "execution_count": null,
      "outputs": [
        {
          "output_type": "stream",
          "name": "stdout",
          "text": [
            "Die 1: 4\n",
            "Die 2: 6\n",
            "Sum of both die: 10\n"
          ]
        }
      ]
    },
    {
      "cell_type": "markdown",
      "source": [
        "**06 seconds_in_year**"
      ],
      "metadata": {
        "id": "jTlFDPKYAqWF"
      }
    },
    {
      "cell_type": "code",
      "source": [
        "DAYS_IN_YEAR = 365\n",
        "HOURS_IN_A_DAY = 24\n",
        "MINIUTES_IN_AN_HOUR = 60\n",
        "SECONDS_IN_A_MINUTE = 60\n",
        "\n",
        "\n",
        "def main():\n",
        "  print(f\"There are {DAYS_IN_YEAR * HOURS_IN_A_DAY * MINIUTES_IN_AN_HOUR * SECONDS_IN_A_MINUTE} seconds in a year\")\n",
        "\n",
        "if __name__ == \"__main__\":\n",
        "  main()"
      ],
      "metadata": {
        "colab": {
          "base_uri": "https://localhost:8080/"
        },
        "id": "IJtDNhQfAsb1",
        "outputId": "0c03fa11-a8bd-4007-9057-69421d23dbfa"
      },
      "execution_count": null,
      "outputs": [
        {
          "output_type": "stream",
          "name": "stdout",
          "text": [
            "There are 31536000 seconds in a year\n"
          ]
        }
      ]
    },
    {
      "cell_type": "markdown",
      "source": [
        "**07 tiny_mad_lib**"
      ],
      "metadata": {
        "id": "vccWJc2OAzhd"
      }
    },
    {
      "cell_type": "code",
      "source": [
        "def main():\n",
        "    SENTENCE_START = \"Coding is fun. I learned to program and used Python to make my \"\n",
        "    adjective = input(\"Please type an adjective and press enter. \")\n",
        "    noun = input(\"Please type a noun and press enter. \")\n",
        "    verb = input(\"Please type a verb and press enter. \")\n",
        "    print(SENTENCE_START + adjective + \" \" + noun + \" \" + verb + \"!\")\n",
        "\n",
        "if __name__ == \"__main__\":\n",
        "    main()"
      ],
      "metadata": {
        "colab": {
          "base_uri": "https://localhost:8080/"
        },
        "id": "ytaEDxw5A1bH",
        "outputId": "2b5a6e2e-369f-4a24-e342-45b19ddfca22"
      },
      "execution_count": null,
      "outputs": [
        {
          "output_type": "stream",
          "name": "stdout",
          "text": [
            "Please type an adjective and press enter. sparkly\n",
            "Please type a noun and press enter. toaster\n",
            "Please type a verb and press enter. dance\n",
            "Code in Place is fun. I learned to program and used Python to make my sparkly toaster dance!\n"
          ]
        }
      ]
    },
    {
      "cell_type": "markdown",
      "source": [
        "**02_lists**"
      ],
      "metadata": {
        "id": "sqVtVm9HBSHc"
      }
    },
    {
      "cell_type": "markdown",
      "source": [
        "**01 add_many_number**"
      ],
      "metadata": {
        "id": "GGq3mvnaBZib"
      }
    },
    {
      "cell_type": "code",
      "source": [
        "def sum_of_many(nums: list) -> int:\n",
        "  return sum(nums)\n",
        "\n",
        "def main():\n",
        "  print(sum([1,2,6,8,9]))\n",
        "\n",
        "if __name__ == \"__main__\":\n",
        "  main()"
      ],
      "metadata": {
        "colab": {
          "base_uri": "https://localhost:8080/"
        },
        "id": "ZjtFhl25BeR8",
        "outputId": "734695ed-993e-40c5-ea1f-be8000b2c4b6"
      },
      "execution_count": null,
      "outputs": [
        {
          "output_type": "stream",
          "name": "stdout",
          "text": [
            "26\n"
          ]
        }
      ]
    },
    {
      "cell_type": "markdown",
      "source": [
        "**02_double_list**"
      ],
      "metadata": {
        "id": "NfX2JJ_bBrTK"
      }
    },
    {
      "cell_type": "code",
      "source": [
        "def main():\n",
        "  num_list = [1,2,3,4,5]\n",
        "\n",
        "  print(f\"list before: {num_list}\")\n",
        "\n",
        "  print(f\"list doubled: {[num + num for num in num_list]}\")\n",
        "\n",
        "if __name__ == \"__main__\":\n",
        "  main()"
      ],
      "metadata": {
        "colab": {
          "base_uri": "https://localhost:8080/"
        },
        "id": "IhfLxO7KBvlq",
        "outputId": "ffaede32-bea8-45fa-ecf7-dc29b7ca4e3a"
      },
      "execution_count": null,
      "outputs": [
        {
          "output_type": "stream",
          "name": "stdout",
          "text": [
            "list before: [1, 2, 3, 4, 5]\n",
            "list doubled: [2, 4, 6, 8, 10]\n"
          ]
        }
      ]
    },
    {
      "cell_type": "markdown",
      "source": [
        "**03 erase_canvas**"
      ],
      "metadata": {
        "id": "rARW9mQRB3gV"
      }
    },
    {
      "cell_type": "code",
      "source": [
        "from graphics import Canvas\n",
        "import time\n",
        "\n",
        "CANVAS_WIDTH : int = 400\n",
        "CANVAS_HEIGHT : int = 400\n",
        "\n",
        "CELL_SIZE : int = 40\n",
        "ERASER_SIZE : int = 20\n",
        "\n",
        "def erase_objects(canvas, eraser):\n",
        "    \"\"\"Erase objects in contact with the eraser\"\"\"\n",
        "    # Get mouse info to help us know which cells to delete\n",
        "    mouse_x = canvas.get_mouse_x()\n",
        "    mouse_y = canvas.get_mouse_y()\n",
        "\n",
        "    # Calculate where our eraser is\n",
        "    left_x = mouse_x\n",
        "    top_y = mouse_y\n",
        "    right_x = left_x + ERASER_SIZE\n",
        "    bottom_y = top_y + ERASER_SIZE\n",
        "\n",
        "    # Find things that overlap with our eraser\n",
        "    overlapping_objects = canvas.find_overlapping(left_x, top_y, right_x, bottom_y)\n",
        "\n",
        "    # For everything that overlaps with our eraser (that isn't our eraser), change\n",
        "    # its color to white\n",
        "    for overlapping_object in overlapping_objects:\n",
        "        if overlapping_object != eraser:\n",
        "            canvas.set_color(overlapping_object, 'white')\n",
        "\n",
        "# There is no need to edit code beyond this point\n",
        "\n",
        "def main():\n",
        "    canvas = Canvas(CANVAS_WIDTH, CANVAS_HEIGHT)\n",
        "\n",
        "    num_rows = CANVAS_HEIGHT // CELL_SIZE  # Figure out how many rows of cells we need\n",
        "    num_cols = CANVAS_WIDTH // CELL_SIZE   # Figure out how many columns of cells we need\n",
        "\n",
        "    # Make a grid of squares based on the number of rows and columns.\n",
        "    # The rows and columns along with our cell size help determine where\n",
        "    # each individual cell belongs in our grid!\n",
        "    for row in range(num_rows):\n",
        "        for col in range(num_cols):\n",
        "            left_x = col * CELL_SIZE\n",
        "            top_y = row * CELL_SIZE\n",
        "            right_x = left_x + CELL_SIZE   # The right coordinate of the cell is CELL_SIZE pixels away from the left\n",
        "            bottom_y = top_y + CELL_SIZE   # The bottom coordinate of the cell is CELL_SIZE pixels away from the top\n",
        "\n",
        "            # Create a single cell in the grid\n",
        "            cell = canvas.create_rectangle(left_x, top_y, right_x, bottom_y, 'blue')\n",
        "\n",
        "\n",
        "    canvas.wait_for_click()  # Wait for the user to click before creating the eraser\n",
        "\n",
        "    last_click_x, last_click_y = canvas.get_last_click()  # Get the starting location for the eraser\n",
        "\n",
        "    # Create our eraser\n",
        "    eraser = canvas.create_rectangle(\n",
        "        last_click_x,\n",
        "        last_click_y,\n",
        "        last_click_x + ERASER_SIZE,\n",
        "        last_click_y + ERASER_SIZE,\n",
        "        'pink'\n",
        "    )\n",
        "\n",
        "    # Move the eraser, and erase what it's touching\n",
        "    while True:\n",
        "        # Get where our mouse is and move the eraser to there\n",
        "        mouse_x = canvas.get_mouse_x()\n",
        "        mouse_y = canvas.get_mouse_y()\n",
        "        canvas.moveto(eraser, mouse_x, mouse_y)\n",
        "\n",
        "        # Erase anything touching the eraser\n",
        "        erase_objects(canvas, eraser)\n",
        "\n",
        "        time.sleep(0.05)\n",
        "\n",
        "\n",
        "if __name__ == '__main__':\n",
        "    main()"
      ],
      "metadata": {
        "id": "O6Gw7eeUDejn"
      },
      "execution_count": null,
      "outputs": []
    },
    {
      "cell_type": "markdown",
      "source": [
        "**04 flowing_with_data_structures**"
      ],
      "metadata": {
        "id": "IuAuQ9bNDDBQ"
      }
    },
    {
      "cell_type": "code",
      "source": [
        "def add_three_copies(li: list, data):\n",
        "  li.append(data)\n",
        "  li.append(data)\n",
        "  li.append(data)\n",
        "\n",
        "\n",
        "def num_without_return(x: int):\n",
        "  x += 10\n",
        "\n",
        "def num_with_return(x: int) -> int:\n",
        "  x+= 10\n",
        "  return x\n",
        "\n",
        "def main():\n",
        "\n",
        "  my_list = []\n",
        "  variable = 5\n",
        "\n",
        "  # num_without_return(variable)  #didn't modified the variable\n",
        "\n",
        "  variable = num_with_return(variable)\n",
        "\n",
        "  add_three_copies(my_list, \"Python\")\n",
        "\n",
        "  print(variable)\n",
        "  print(my_list)\n",
        "\n",
        "\n",
        "if __name__ == \"__main__\":\n",
        "  main()\n",
        "\n"
      ],
      "metadata": {
        "colab": {
          "base_uri": "https://localhost:8080/"
        },
        "id": "ieESH99lDE4a",
        "outputId": "1b091ec9-d4f2-4c6b-c618-2132eb3569c1"
      },
      "execution_count": null,
      "outputs": [
        {
          "output_type": "stream",
          "name": "stdout",
          "text": [
            "15\n",
            "['Python', 'Python', 'Python']\n"
          ]
        }
      ]
    },
    {
      "cell_type": "markdown",
      "source": [
        "**05 get_first_element**"
      ],
      "metadata": {
        "id": "JQ65cXfaDk5O"
      }
    },
    {
      "cell_type": "code",
      "source": [
        "def get_first_element(lst: list):\n",
        "  print(lst[0])\n",
        "\n",
        "\n",
        "def main():\n",
        "  this_is_a_list = []\n",
        "\n",
        "  while True:\n",
        "    user_input = input(\"Enter a value to add in the list, 'PRESS ENTER WHEN YOU ARE DONE' : \")\n",
        "    if user_input == \"\":\n",
        "      break\n",
        "    this_is_a_list.append(user_input)\n",
        "\n",
        "  if len(this_is_a_list) == 0:\n",
        "    print(\"list is empty\")\n",
        "  get_first_element(this_is_a_list)\n",
        "\n",
        "if __name__ == \"__main__\":\n",
        "  main()"
      ],
      "metadata": {
        "colab": {
          "base_uri": "https://localhost:8080/"
        },
        "id": "yvyh8rUkDq4t",
        "outputId": "de27f13b-579a-4d4c-fa8a-12994db3d6f8"
      },
      "execution_count": null,
      "outputs": [
        {
          "output_type": "stream",
          "name": "stdout",
          "text": [
            "Enter a value to add in the list, 'PRESS ENTER WHEN YOU ARE DONE' : 1\n",
            "Enter a value to add in the list, 'PRESS ENTER WHEN YOU ARE DONE' : 2\n",
            "Enter a value to add in the list, 'PRESS ENTER WHEN YOU ARE DONE' : 3\n",
            "Enter a value to add in the list, 'PRESS ENTER WHEN YOU ARE DONE' : \n",
            "1\n"
          ]
        }
      ]
    },
    {
      "cell_type": "markdown",
      "source": [
        "**06_get_last_element**"
      ],
      "metadata": {
        "id": "J_NUO-EmEIcv"
      }
    },
    {
      "cell_type": "code",
      "source": [
        "def get_last_element(lst: list):\n",
        "  print(lst.pop(), \"last element\")\n",
        "\n",
        "\n",
        "def main():\n",
        "  this_is_a_list = []\n",
        "\n",
        "  while True:\n",
        "    user_input = input(\"Enter a value to add in the list, 'PRESS ENTER WHEN YOU ARE DONE' : \")\n",
        "    if user_input == \"\":\n",
        "      break\n",
        "    this_is_a_list.append(user_input)\n",
        "\n",
        "  if len(this_is_a_list) == 0:\n",
        "    print(\"list is empty\")\n",
        "  get_last_element(this_is_a_list)\n",
        "\n",
        "if __name__ == \"__main__\":\n",
        "  main()"
      ],
      "metadata": {
        "colab": {
          "base_uri": "https://localhost:8080/"
        },
        "id": "-ZBoez-BEKBb",
        "outputId": "49216cfc-6cfa-4b87-924d-6362cfa1ecc3"
      },
      "execution_count": null,
      "outputs": [
        {
          "output_type": "stream",
          "name": "stdout",
          "text": [
            "Enter a value to add in the list, 'PRESS ENTER WHEN YOU ARE DONE' : 3\n",
            "Enter a value to add in the list, 'PRESS ENTER WHEN YOU ARE DONE' : 2\n",
            "Enter a value to add in the list, 'PRESS ENTER WHEN YOU ARE DONE' : 1\n",
            "Enter a value to add in the list, 'PRESS ENTER WHEN YOU ARE DONE' : \n",
            "1 last element\n"
          ]
        }
      ]
    },
    {
      "cell_type": "markdown",
      "source": [
        "**07 get_list**"
      ],
      "metadata": {
        "id": "k2xXIsXnERke"
      }
    },
    {
      "cell_type": "code",
      "source": [
        "def main():\n",
        "  li= []\n",
        "  while True:\n",
        "    user_input: str = input(\"Enter value to be added in the list: 'PRESS ENTER WHEN YOU ARE DONE' : \")\n",
        "    if user_input == \"\":\n",
        "      print(li)\n",
        "      break\n",
        "    li.append(user_input)\n",
        "\n",
        "if __name__ == \"__main__\":\n",
        "  main()"
      ],
      "metadata": {
        "colab": {
          "base_uri": "https://localhost:8080/"
        },
        "id": "R6whJLDCc7wz",
        "outputId": "037d1b4f-84a6-47a9-838f-de12645f0e98"
      },
      "execution_count": null,
      "outputs": [
        {
          "output_type": "stream",
          "name": "stdout",
          "text": [
            "Enter value to be added in the list: 'PRESS ENTER WHEN YOU ARE DONE' : 1\n",
            "Enter value to be added in the list: 'PRESS ENTER WHEN YOU ARE DONE' : 2\n",
            "Enter value to be added in the list: 'PRESS ENTER WHEN YOU ARE DONE' : 3\n",
            "Enter value to be added in the list: 'PRESS ENTER WHEN YOU ARE DONE' : 4\n",
            "Enter value to be added in the list: 'PRESS ENTER WHEN YOU ARE DONE' : 5\n",
            "Enter value to be added in the list: 'PRESS ENTER WHEN YOU ARE DONE' : \n",
            "['1', '2', '3', '4', '5']\n"
          ]
        }
      ]
    },
    {
      "cell_type": "markdown",
      "source": [
        "**08 shorten**"
      ],
      "metadata": {
        "id": "gXXfTDwhdIOQ"
      }
    },
    {
      "cell_type": "code",
      "source": [
        "MAX_LENGTH = 4\n",
        "def shorten(lst):\n",
        "  while len(lst) >= MAX_LENGTH:\n",
        "    popped_item =  lst.pop()\n",
        "    print(f\"\\nPopped {popped_item}\")\n",
        "  print(lst)\n",
        "\n",
        "\n",
        "def main():\n",
        "  li = []\n",
        "  while True:\n",
        "    user_input: str = input(\"Enter value to be added in the list: 'PRESS ENTER WHEN YOU ARE DONE' : \")\n",
        "    if user_input == \"\":\n",
        "      break\n",
        "    li.append(user_input)\n",
        "\n",
        "  shorten(li)\n",
        "\n",
        "\n",
        "if __name__ == \"__main__\":\n",
        "  main()\n"
      ],
      "metadata": {
        "colab": {
          "base_uri": "https://localhost:8080/"
        },
        "id": "FWl9K6bjdLl-",
        "outputId": "b483e472-f234-4de2-da30-a032bfd8a148"
      },
      "execution_count": null,
      "outputs": [
        {
          "output_type": "stream",
          "name": "stdout",
          "text": [
            "Enter value to be added in the list: 'PRESS ENTER WHEN YOU ARE DONE' : 3\n",
            "Enter value to be added in the list: 'PRESS ENTER WHEN YOU ARE DONE' : 4\n",
            "Enter value to be added in the list: 'PRESS ENTER WHEN YOU ARE DONE' : 5\n",
            "Enter value to be added in the list: 'PRESS ENTER WHEN YOU ARE DONE' : 1\n",
            "Enter value to be added in the list: 'PRESS ENTER WHEN YOU ARE DONE' : 6\n",
            "Enter value to be added in the list: 'PRESS ENTER WHEN YOU ARE DONE' : \n",
            "\n",
            "Popped 6\n",
            "\n",
            "Popped 1\n",
            "['3', '4', '5']\n"
          ]
        }
      ]
    },
    {
      "cell_type": "markdown",
      "source": [
        "**03_if_statements**"
      ],
      "metadata": {
        "id": "caeq7Xv2dZ49"
      }
    },
    {
      "cell_type": "markdown",
      "source": [
        "**01 print_events**"
      ],
      "metadata": {
        "id": "pVV6DzEyddXd"
      }
    },
    {
      "cell_type": "code",
      "source": [
        "def main():\n",
        "  i = 0\n",
        "  while i < 25:\n",
        "    print(i * 2, end=\" \")\n",
        "    i += 1\n",
        "\n",
        "if __name__ == \"__main__\":\n",
        "  main()"
      ],
      "metadata": {
        "colab": {
          "base_uri": "https://localhost:8080/"
        },
        "id": "NPrk5dgSdhCV",
        "outputId": "60156c0a-1922-4ef3-a86f-b4aa33c1ddc5"
      },
      "execution_count": null,
      "outputs": [
        {
          "output_type": "stream",
          "name": "stdout",
          "text": [
            "0 2 4 6 8 10 12 14 16 18 20 22 24 26 28 30 32 34 36 38 40 42 44 46 48 "
          ]
        }
      ]
    },
    {
      "cell_type": "markdown",
      "source": [
        "**02 international_voting_age**"
      ],
      "metadata": {
        "id": "M2mWSJLDds3c"
      }
    },
    {
      "cell_type": "code",
      "source": [
        "PETURKSBOUIPO =16\n",
        "STANLAU = 25\n",
        "MAYENGUA = 48\n",
        "\n",
        "\n",
        "def main():\n",
        "  age : int = int(input(\"Enter your age: \"))\n",
        "\n",
        "  if age >= PETURKSBOUIPO and age < STANLAU:\n",
        "    print(\"You are eligible to vote in PETURKSBOUIPO, but not in STANLAU & MAYENGUA\")\n",
        "  elif age >= STANLAU and age < MAYENGUA:\n",
        "    print(\"You are eligible to vote in STANLAU & PETURKSBOUIPO but not in MAYENGUA\")\n",
        "  elif age >= MAYENGUA:\n",
        "    print(\"You are eligible to vote in MAYENGUA, STANLAU & PETURKSBOUIPO \")\n",
        "  else:\n",
        "    print(\" you can't vote, WAIT FOR YOUR TIME\")\n",
        "\n",
        "if __name__ == \"__main__\":\n",
        "  main()\n"
      ],
      "metadata": {
        "colab": {
          "base_uri": "https://localhost:8080/"
        },
        "id": "PzP9dmSbdut7",
        "outputId": "85e1d3e6-29dc-4956-a912-d82b26cb0625"
      },
      "execution_count": null,
      "outputs": [
        {
          "output_type": "stream",
          "name": "stdout",
          "text": [
            "Enter your age: 12\n",
            " you can't vote, WAIT FOR YOUR TIME\n"
          ]
        }
      ]
    },
    {
      "cell_type": "markdown",
      "source": [
        "**03 leap_year**"
      ],
      "metadata": {
        "id": "G4BjcTtigBXv"
      }
    },
    {
      "cell_type": "code",
      "source": [
        "def main():\n",
        "  year : int = int(input(\"Enter year : \"))\n",
        "\n",
        "  if year % 100 == 0:\n",
        "    print(f\"{year} is not a leap year\")\n",
        "  elif year % 4 == 0:\n",
        "    print(f\"{year} is a leap year!\")\n",
        "  elif year % 400 == 0:\n",
        "    print(f\"{year} is a leap year\")\n",
        "\n",
        "  else:\n",
        "    print(f\"{year} is not a leap year\")\n",
        "\n",
        "if __name__ == \"__main__\":\n",
        "  main()"
      ],
      "metadata": {
        "colab": {
          "base_uri": "https://localhost:8080/"
        },
        "id": "xLbx9qMbgE7f",
        "outputId": "9a9dfe54-f76c-4d31-bb45-6d0f4f2682dc"
      },
      "execution_count": null,
      "outputs": [
        {
          "output_type": "stream",
          "name": "stdout",
          "text": [
            "Enter year : 2024\n",
            "2024 is a leap year!\n"
          ]
        }
      ]
    },
    {
      "cell_type": "markdown",
      "source": [
        "**04 tall_enough_to_ride**"
      ],
      "metadata": {
        "id": "tqE2al2LgQHF"
      }
    },
    {
      "cell_type": "code",
      "source": [
        "def main():\n",
        "  height = int(input(\"Enter your height: \"))\n",
        "\n",
        "  if height > 50:\n",
        "    print(\"you are eligible for the Ride\")\n",
        "  else:\n",
        "    print(\"you are not Eligible!\")\n",
        "\n",
        "if __name__ == \"__main__\":\n",
        "  main()"
      ],
      "metadata": {
        "colab": {
          "base_uri": "https://localhost:8080/"
        },
        "id": "FizF2VZlgaV1",
        "outputId": "7fc829c7-f180-4706-b5ff-7cf49e96f9ab"
      },
      "execution_count": null,
      "outputs": [
        {
          "output_type": "stream",
          "name": "stdout",
          "text": [
            "Enter your height: 12\n",
            "you are not Eligible!\n"
          ]
        }
      ]
    },
    {
      "cell_type": "markdown",
      "source": [
        "**05 random_numbers**"
      ],
      "metadata": {
        "id": "PJJI3nT_gu5N"
      }
    },
    {
      "cell_type": "code",
      "source": [
        "import random\n",
        "\n",
        "def main():\n",
        "  print(random.randint(1, 100))\n",
        "\n",
        "\n",
        "if __name__ == \"__main__\":\n",
        "  main()"
      ],
      "metadata": {
        "colab": {
          "base_uri": "https://localhost:8080/"
        },
        "id": "s1XiPBFvg3Mk",
        "outputId": "09b8674c-38e3-4298-adcf-c8f1d1c3b099"
      },
      "execution_count": null,
      "outputs": [
        {
          "output_type": "stream",
          "name": "stdout",
          "text": [
            "93\n"
          ]
        }
      ]
    },
    {
      "cell_type": "markdown",
      "source": [
        "**04 dictionaries**"
      ],
      "metadata": {
        "id": "rjdhIQrxg_U9"
      }
    },
    {
      "cell_type": "markdown",
      "source": [
        "**00 count_nums**"
      ],
      "metadata": {
        "id": "UCl1-w4ahBNM"
      }
    },
    {
      "cell_type": "code",
      "source": [
        "def main():\n",
        "  num_counter: dict = {}\n",
        "\n",
        "  while True:\n",
        "    user_input = input(\"Enter numbers, 'PRESS ENTER, WHEN DONE': \")\n",
        "    if user_input == \"\":\n",
        "      break\n",
        "    if user_input in num_counter:\n",
        "      num_counter[user_input] += 1\n",
        "    else:\n",
        "      num_counter[user_input] = 1\n",
        "\n",
        "  for key, value in num_counter.items():\n",
        "    print(f\"{key} appeared {value} times\")\n",
        "\n",
        "\n",
        "if __name__ == \"__main__\":\n",
        "    main()"
      ],
      "metadata": {
        "colab": {
          "base_uri": "https://localhost:8080/"
        },
        "id": "fcZeN1crhFnN",
        "outputId": "869d2b43-4c8f-4fe3-9c8a-b699dc14301c"
      },
      "execution_count": null,
      "outputs": [
        {
          "output_type": "stream",
          "name": "stdout",
          "text": [
            "Enter numbers, 'PRESS ENTER, WHEN DONE': 2\n",
            "Enter numbers, 'PRESS ENTER, WHEN DONE': 5\n",
            "Enter numbers, 'PRESS ENTER, WHEN DONE': 5\n",
            "Enter numbers, 'PRESS ENTER, WHEN DONE': 6\n",
            "Enter numbers, 'PRESS ENTER, WHEN DONE': \n",
            "2 appeared 1 times\n",
            "5 appeared 2 times\n",
            "6 appeared 1 times\n"
          ]
        }
      ]
    },
    {
      "cell_type": "markdown",
      "source": [
        "**01 phonebook**"
      ],
      "metadata": {
        "id": "PQ0MMuf1hTE7"
      }
    },
    {
      "cell_type": "code",
      "source": [
        "def phonebook():\n",
        "    contacts = {}\n",
        "    while True:\n",
        "        print(\"\\n1. Add Contact\")\n",
        "        print(\"2. Lookup Contact\")\n",
        "        print(\"3. Quit\\n\")\n",
        "        choice = input(\"Enter your choice: \").strip()\n",
        "\n",
        "        if choice == \"1\":\n",
        "            while True:\n",
        "                name = input(\"Enter name (press Enter to finish): \").strip()\n",
        "                if not name:\n",
        "                    break\n",
        "                phone = input(\"Enter phone number: \").strip()\n",
        "                if not phone:\n",
        "                    print(\"Phone number cannot be empty!\")\n",
        "                    continue\n",
        "                contacts[name] = phone\n",
        "\n",
        "        elif choice == \"2\":\n",
        "            name = input(\"Enter name to lookup: \").strip()\n",
        "            print(contacts.get(name, \"Contact not found\"))\n",
        "\n",
        "        elif choice == \"3\":\n",
        "            print(\"Exiting phonebook...\")\n",
        "            break\n",
        "\n",
        "        else:\n",
        "            print(\"Invalid choice. Please enter 1, 2, or 3.\")\n",
        "\n",
        "\n",
        "def main():\n",
        "    phonebook()\n",
        "\n",
        "if __name__ == \"__main__\":\n",
        "    main()"
      ],
      "metadata": {
        "colab": {
          "base_uri": "https://localhost:8080/"
        },
        "id": "rqKE3mV2nt9c",
        "outputId": "50391073-5bbd-4038-87b2-99a6ceb9d800"
      },
      "execution_count": null,
      "outputs": [
        {
          "output_type": "stream",
          "name": "stdout",
          "text": [
            "\n",
            "1. Add Contact\n",
            "2. Lookup Contact\n",
            "3. Quit\n",
            "\n",
            "Enter your choice: 1\n",
            "Enter name (press Enter to finish): Nimra\n",
            "Enter phone number: 31145654565\n",
            "Enter name (press Enter to finish): \n",
            "\n",
            "1. Add Contact\n",
            "2. Lookup Contact\n",
            "3. Quit\n",
            "\n",
            "Enter your choice: 2\n",
            "Enter name to lookup: NIMRA\n",
            "Contact not found\n",
            "\n",
            "1. Add Contact\n",
            "2. Lookup Contact\n",
            "3. Quit\n",
            "\n",
            "Enter your choice: 3\n",
            "Exiting phonebook...\n"
          ]
        }
      ]
    },
    {
      "cell_type": "markdown",
      "source": [
        "**02 pop_up_shop**"
      ],
      "metadata": {
        "id": "dblLAfa9mJcx"
      }
    },
    {
      "cell_type": "code",
      "source": [
        "fruits = {\n",
        "\n",
        "          \"apple\":200,\n",
        "          \"orange\":300,\n",
        "          \"mango\": 200\n",
        "}\n",
        "\n",
        "\n",
        "def purchase_fruit():\n",
        "\n",
        "  total_price = 0\n",
        "  for key, value in fruits.items():\n",
        "    fruit_quantity = int(input(f\"How many {key} you want: \"))\n",
        "    total_price += fruit_quantity * value\n",
        "\n",
        "  print(f\"Total price: {total_price}\")\n",
        "\n",
        "\n",
        "def main():\n",
        "  purchase_fruit()\n",
        "\n",
        "if __name__ == \"__main__\":\n",
        "  main()"
      ],
      "metadata": {
        "colab": {
          "base_uri": "https://localhost:8080/"
        },
        "id": "jlaP_V3mmMro",
        "outputId": "73257e17-56fb-4e6e-b710-8713dfe32736"
      },
      "execution_count": null,
      "outputs": [
        {
          "output_type": "stream",
          "name": "stdout",
          "text": [
            "How many apple you want: 2\n",
            "How many orange you want: 5\n",
            "How many mango you want: 9\n",
            "Total price: 3700\n"
          ]
        }
      ]
    },
    {
      "cell_type": "markdown",
      "source": [
        "**03 powerful_passwords**"
      ],
      "metadata": {
        "id": "QXFC1y4emjKv"
      }
    },
    {
      "cell_type": "code",
      "source": [
        "from hashlib import sha256\n",
        "\n",
        "\n",
        "def login(email, password_to_check, stored_credentials):\n",
        "\n",
        "  if stored_credentials[email] == convert_to_hash(password_to_check):\n",
        "    print(\"Login successful\")\n",
        "  else:\n",
        "    print(\"Login failed\")\n",
        "\n",
        "\n",
        "def convert_to_hash(password):\n",
        "  return sha256(password.encode()).hexdigest()\n",
        "\n",
        "def main():\n",
        "  stored_credentials = {\n",
        "      \"nimra.akram123@gmail.com\":\"2cf24dba5fb0a30e26e83b2ac5b9e29e1b161e5c1fa7425e73043362938b9824\",\n",
        "      \"realme@gmail.com\": \"5e884898da28047151d0e56f8dc6292773603d0d6aabbdd62a11ef721d1542d8\"\n",
        "  }\n",
        "\n",
        "  password = input(\"Enter password: \")\n",
        "\n",
        "  email = input(\"Enter email: \")\n",
        "\n",
        "  login(email, password, stored_credentials)\n",
        "\n",
        "\n",
        "if __name__ == \"__main__\":\n",
        "  main()\n"
      ],
      "metadata": {
        "id": "N_sFZbItquTe",
        "colab": {
          "base_uri": "https://localhost:8080/"
        },
        "outputId": "2e6a4f21-2f82-4c1c-d37a-07d396506a9c"
      },
      "execution_count": 2,
      "outputs": [
        {
          "output_type": "stream",
          "name": "stdout",
          "text": [
            "Enter password: nimra123\n",
            "Enter email: realme@gmail.com\n",
            "Login failed\n"
          ]
        }
      ]
    },
    {
      "cell_type": "markdown",
      "source": [
        "**05 loops_control_flow**"
      ],
      "metadata": {
        "id": "rTLt2JpZqu2l"
      }
    },
    {
      "cell_type": "markdown",
      "source": [
        "**00 guess_my_number**"
      ],
      "metadata": {
        "id": "0ybGZU7-raz8"
      }
    },
    {
      "cell_type": "code",
      "source": [
        "import random\n",
        "\n",
        "def main():\n",
        "\n",
        "    secret_number = random.randint(1, 99)\n",
        "\n",
        "    print(\"I am thinking of a number between 1 and 99...\")\n",
        "\n",
        "\n",
        "    guess = int(input(\"Enter a guess: \"))\n",
        "\n",
        "    while guess != secret_number:\n",
        "        if guess < secret_number:\n",
        "            print(\"Your guess is too low\")\n",
        "        else:\n",
        "            print(\"Your guess is too high\")\n",
        "\n",
        "        print()\n",
        "        guess = int(input(\"Enter a new guess: \"))\n",
        "\n",
        "    print(\"Congrats! The number was: \" + str(secret_number))\n",
        "\n",
        "if __name__ == '__main__':\n",
        "    main()"
      ],
      "metadata": {
        "colab": {
          "base_uri": "https://localhost:8080/"
        },
        "id": "Hes1HzO8rkBz",
        "outputId": "c89cf2f3-8af4-4452-8074-5aafb173acab"
      },
      "execution_count": null,
      "outputs": [
        {
          "output_type": "stream",
          "name": "stdout",
          "text": [
            "I am thinking of a number between 1 and 99...\n",
            "Enter a guess: 6\n",
            "Your guess is too low\n",
            "\n",
            "Enter a new guess: 78\n",
            "Your guess is too high\n",
            "\n",
            "Enter a new guess: 54\n",
            "Your guess is too high\n",
            "\n",
            "Enter a new guess: 34\n",
            "Your guess is too low\n",
            "\n",
            "Enter a new guess: 47\n",
            "Your guess is too high\n",
            "\n",
            "Enter a new guess: 40\n",
            "Your guess is too low\n",
            "\n",
            "Enter a new guess: 42\n",
            "Your guess is too low\n",
            "\n",
            "Enter a new guess: 45\n",
            "Your guess is too low\n",
            "\n",
            "Enter a new guess: 47\n",
            "Your guess is too high\n",
            "\n",
            "Enter a new guess: 46\n",
            "Congrats! The number was: 46\n"
          ]
        }
      ]
    },
    {
      "cell_type": "markdown",
      "source": [
        "**01 fibonacci**"
      ],
      "metadata": {
        "id": "5CYQ52CPr64b"
      }
    },
    {
      "cell_type": "code",
      "source": [
        "LIMIT = 10000\n",
        "\n",
        "def febonacci_generator():\n",
        "\n",
        "  curr, next = 0, 1\n",
        "\n",
        "  while curr <= LIMIT:\n",
        "    new_term = curr + next\n",
        "\n",
        "    if new_term >= LIMIT:\n",
        "      break\n",
        "\n",
        "    print(new_term, end=\" \")\n",
        "    curr, next = next, new_term\n",
        "\n",
        "def main():\n",
        "  febonacci_generator()\n",
        "\n",
        "if __name__ == \"__main__\":\n",
        "  main()\n",
        "\n"
      ],
      "metadata": {
        "colab": {
          "base_uri": "https://localhost:8080/"
        },
        "id": "yqAPQTZJsJIL",
        "outputId": "29e911d6-81d7-4981-dd8a-2a7c0c4b868a"
      },
      "execution_count": null,
      "outputs": [
        {
          "output_type": "stream",
          "name": "stdout",
          "text": [
            "1 2 3 5 8 13 21 34 55 89 144 233 377 610 987 1597 2584 4181 6765 "
          ]
        }
      ]
    },
    {
      "cell_type": "markdown",
      "source": [
        "**02 print_events**"
      ],
      "metadata": {
        "id": "kadNEVqnsPbL"
      }
    },
    {
      "cell_type": "code",
      "source": [
        "def main():\n",
        "  for even in range(0, 30):\n",
        "    print(even * 2, end=\" \")\n",
        "\n",
        "\n",
        "if __name__ == \"__main__\":\n",
        "  main()"
      ],
      "metadata": {
        "colab": {
          "base_uri": "https://localhost:8080/"
        },
        "id": "4LYce4upsaPa",
        "outputId": "da7d7ad0-c0a7-45f3-d33e-265d2c0806d2"
      },
      "execution_count": null,
      "outputs": [
        {
          "output_type": "stream",
          "name": "stdout",
          "text": [
            "0 2 4 6 8 10 12 14 16 18 20 22 24 26 28 30 32 34 36 38 40 42 44 46 48 50 52 54 56 58 "
          ]
        }
      ]
    },
    {
      "cell_type": "markdown",
      "source": [
        "**03 wholesome_machine**"
      ],
      "metadata": {
        "id": "NUaUXYjuskQp"
      }
    },
    {
      "cell_type": "code",
      "source": [
        "AFFIRMATION : str = \"I am capable of doing anything I put my mind to.\"\n",
        "\n",
        "def main():\n",
        "  while True:\n",
        "    print( f\"\\nPlease type: {AFFIRMATION}\" )\n",
        "    user_input = input(\"\")\n",
        "\n",
        "    if user_input == AFFIRMATION:\n",
        "      break\n",
        "    else:\n",
        "      continue\n",
        "if __name__ == \"__main__\":\n",
        "  main()"
      ],
      "metadata": {
        "colab": {
          "base_uri": "https://localhost:8080/"
        },
        "id": "tc5hCz3CsmFs",
        "outputId": "043c4b14-4baa-4b28-b9c9-8ada16b9942a"
      },
      "execution_count": null,
      "outputs": [
        {
          "name": "stdout",
          "output_type": "stream",
          "text": [
            "\n",
            "Please type: I am capable of doing anything I put my mind to.\n",
            "i m nimra\n",
            "\n",
            "Please type: I am capable of doing anything I put my mind to.\n",
            "I am capable of doing anything I put my mind to.\n"
          ]
        }
      ]
    },
    {
      "cell_type": "markdown",
      "source": [
        "**04 liftoff**"
      ],
      "metadata": {
        "id": "0mpfoKEFs4lB"
      }
    },
    {
      "cell_type": "code",
      "source": [
        "import time\n",
        "def main():\n",
        "\n",
        "  for i in range(10,0, -1):\n",
        "    print(i)\n",
        "    time.sleep(1)\n",
        "  print(\"Lift Off 🦾\")\n",
        "\n",
        "if __name__ == \"__main__\":\n",
        "  main()"
      ],
      "metadata": {
        "colab": {
          "base_uri": "https://localhost:8080/"
        },
        "id": "4mJMD9_rs8HR",
        "outputId": "d797e620-713f-46ba-b4c7-54dc89565ef0"
      },
      "execution_count": null,
      "outputs": [
        {
          "output_type": "stream",
          "name": "stdout",
          "text": [
            "10\n",
            "9\n",
            "8\n",
            "7\n",
            "6\n",
            "5\n",
            "4\n",
            "3\n",
            "2\n",
            "1\n",
            "Lift Off 🦾\n"
          ]
        }
      ]
    },
    {
      "cell_type": "markdown",
      "source": [
        "**05 double_it**"
      ],
      "metadata": {
        "id": "2dF83KlHtYEX"
      }
    },
    {
      "cell_type": "code",
      "source": [
        "def main():\n",
        "  user_input = int(input(\"Enter a number to double it: \"))\n",
        "  curr_value = user_input *2\n",
        "  print(curr_value)\n",
        "  while curr_value <= 100:\n",
        "    curr_value *= 2\n",
        "    print(curr_value)\n",
        "\n",
        "if __name__ == \"__main__\":\n",
        "  main()"
      ],
      "metadata": {
        "colab": {
          "base_uri": "https://localhost:8080/"
        },
        "id": "XRvdTuz8taB2",
        "outputId": "a08af442-f0a5-403b-c7e7-7e24d09dad0f"
      },
      "execution_count": null,
      "outputs": [
        {
          "output_type": "stream",
          "name": "stdout",
          "text": [
            "Enter a number to double it: 2\n",
            "4\n",
            "8\n",
            "16\n",
            "32\n",
            "64\n",
            "128\n"
          ]
        }
      ]
    },
    {
      "cell_type": "markdown",
      "source": [
        "**06_functions**"
      ],
      "metadata": {
        "id": "L3RUl1CXtj8w"
      }
    },
    {
      "cell_type": "markdown",
      "source": [
        "**00 averages**"
      ],
      "metadata": {
        "id": "6FgauJI1tqPu"
      }
    },
    {
      "cell_type": "code",
      "source": [
        "def averages(num1, num2):\n",
        "  return (num1 + num2) / 2\n",
        "\n",
        "def main():\n",
        "  print(averages(7.5, 3))\n",
        "\n",
        "if __name__ == \"__main__\":\n",
        "  main()"
      ],
      "metadata": {
        "colab": {
          "base_uri": "https://localhost:8080/"
        },
        "id": "HM-5bZGVtrxn",
        "outputId": "8abcce72-55c8-4ecf-ba3a-a116b66893d1"
      },
      "execution_count": null,
      "outputs": [
        {
          "output_type": "stream",
          "name": "stdout",
          "text": [
            "5.25\n"
          ]
        }
      ]
    },
    {
      "cell_type": "markdown",
      "source": [
        "**01 chaotic_counting**"
      ],
      "metadata": {
        "id": "3hIb75nNt1Ov"
      }
    },
    {
      "cell_type": "code",
      "source": [
        "import random\n",
        "\n",
        "DONE_LIKELIHOOD = 0.2\n",
        "\n",
        "def done():\n",
        "    return random.random() < DONE_LIKELIHOOD\n",
        "\n",
        "def chaotic_counting():\n",
        "    \"\"\"Prints numbers from 1 to 10, but may stop early if done() returns True.\"\"\"\n",
        "    for i in range(1, 11):\n",
        "        if done():\n",
        "            return  # Stop the function immediately if done() is True.\n",
        "        print(i)\n",
        "\n",
        "def main():\n",
        "    chaotic_counting()\n",
        "    print(\"I'm done.\")\n",
        "\n",
        "if __name__ == '__main__':\n",
        "    main()"
      ],
      "metadata": {
        "colab": {
          "base_uri": "https://localhost:8080/"
        },
        "id": "LJBsmksht3BW",
        "outputId": "d72494aa-879c-40ec-9b32-2da4a9c08793"
      },
      "execution_count": null,
      "outputs": [
        {
          "output_type": "stream",
          "name": "stdout",
          "text": [
            "I'm done.\n"
          ]
        }
      ]
    },
    {
      "cell_type": "markdown",
      "source": [
        "**02_count_even**"
      ],
      "metadata": {
        "id": "hqGCxScWt-jm"
      }
    },
    {
      "cell_type": "code",
      "source": [
        "def main():\n",
        "  lst = []\n",
        "  while True:\n",
        "    user_input = input(\"Enter numbers, 'PRESS ENTER WHEN DONE': \")\n",
        "    if user_input == \"\":\n",
        "      break\n",
        "    lst.append(int(user_input))\n",
        "\n",
        "  even_lst = [num for num in lst if num % 2 == 0]\n",
        "  print(even_lst)\n",
        "\n",
        "if __name__ == \"__main__\":\n",
        "  main()"
      ],
      "metadata": {
        "id": "JfVvnU6_uC2N",
        "outputId": "7b5405ee-92fa-414a-c583-37bb07d9b944",
        "colab": {
          "base_uri": "https://localhost:8080/"
        }
      },
      "execution_count": null,
      "outputs": [
        {
          "output_type": "stream",
          "name": "stdout",
          "text": [
            "Enter numbers, 'PRESS ENTER WHEN DONE': 1\n",
            "Enter numbers, 'PRESS ENTER WHEN DONE': 2\n",
            "Enter numbers, 'PRESS ENTER WHEN DONE': 3\n",
            "Enter numbers, 'PRESS ENTER WHEN DONE': 4\n",
            "Enter numbers, 'PRESS ENTER WHEN DONE': 5\n",
            "Enter numbers, 'PRESS ENTER WHEN DONE': 6\n",
            "Enter numbers, 'PRESS ENTER WHEN DONE': 7\n",
            "Enter numbers, 'PRESS ENTER WHEN DONE': 8\n",
            "Enter numbers, 'PRESS ENTER WHEN DONE': 9\n",
            "Enter numbers, 'PRESS ENTER WHEN DONE': \n",
            "[2, 4, 6, 8]\n"
          ]
        }
      ]
    },
    {
      "cell_type": "markdown",
      "source": [
        "**04 double**"
      ],
      "metadata": {
        "id": "AhbY-PSIuQgw"
      }
    },
    {
      "cell_type": "code",
      "source": [
        "def double(num):\n",
        "  return num * 2\n",
        "\n",
        "def main():\n",
        "  user_input = int(input(\"Enter a number: \"))\n",
        "  print(f\"double that is {double(user_input)}\")\n",
        "\n",
        "if __name__ == \"__main__\":\n",
        "  main()\n"
      ],
      "metadata": {
        "colab": {
          "base_uri": "https://localhost:8080/"
        },
        "id": "Hbjazz5OuUD0",
        "outputId": "df1cd638-0e40-4d65-8ed1-d20c25e3fd22"
      },
      "execution_count": null,
      "outputs": [
        {
          "output_type": "stream",
          "name": "stdout",
          "text": [
            "Enter a number: 4\n",
            "double that is 8\n"
          ]
        }
      ]
    },
    {
      "cell_type": "markdown",
      "source": [
        "**05 get_name**"
      ],
      "metadata": {
        "id": "Nw5fzBLlucak"
      }
    },
    {
      "cell_type": "code",
      "source": [
        "def get_name():\n",
        "  return input(\"Enter your name: \")\n",
        "\n",
        "def main():\n",
        "  print(f\"Hello {get_name()} 😍\")\n",
        "\n",
        "if __name__ == \"__main__\":\n",
        "  main()\n"
      ],
      "metadata": {
        "colab": {
          "base_uri": "https://localhost:8080/"
        },
        "id": "kyWKM9ZtueLE",
        "outputId": "d15453e0-0c85-4ef2-f29d-b7ef5dfa8149"
      },
      "execution_count": null,
      "outputs": [
        {
          "output_type": "stream",
          "name": "stdout",
          "text": [
            "Enter your name: Nimra\n",
            "Hello Nimra 😍\n"
          ]
        }
      ]
    },
    {
      "cell_type": "markdown",
      "source": [
        "**06 is_odd**"
      ],
      "metadata": {
        "id": "uwef-HCWurdk"
      }
    },
    {
      "cell_type": "code",
      "source": [
        "def main():\n",
        "  def is_odd(numb: int):\n",
        "    return numb % 2 != 0\n",
        "\n",
        "  for i in range(15):\n",
        "    if is_odd(i):\n",
        "      print(\"is odd {}\".format(i))\n",
        "    else:\n",
        "      print(f\"Is even {i}\")\n",
        "\n",
        "\n",
        "if __name__ == \"__main__\":\n",
        "    main()\n"
      ],
      "metadata": {
        "colab": {
          "base_uri": "https://localhost:8080/"
        },
        "id": "oskw_A0IuwIz",
        "outputId": "0ffaff22-5b22-4239-d350-c0f3f5601017"
      },
      "execution_count": null,
      "outputs": [
        {
          "output_type": "stream",
          "name": "stdout",
          "text": [
            "Is even 0\n",
            "is odd 1\n",
            "Is even 2\n",
            "is odd 3\n",
            "Is even 4\n",
            "is odd 5\n",
            "Is even 6\n",
            "is odd 7\n",
            "Is even 8\n",
            "is odd 9\n",
            "Is even 10\n",
            "is odd 11\n",
            "Is even 12\n",
            "is odd 13\n",
            "Is even 14\n"
          ]
        }
      ]
    },
    {
      "cell_type": "markdown",
      "source": [
        "**07 print_divisor**"
      ],
      "metadata": {
        "id": "Gv2LMX5su9PM"
      }
    },
    {
      "cell_type": "code",
      "source": [
        "def print_divisors(num):\n",
        "  print(f\"Divisors of {num} are: \")\n",
        "  for i in range(1, num + 1):\n",
        "    if num % i == 0:\n",
        "      print(i, end=\" \")\n",
        "\n",
        "def main():\n",
        "  user_input = int(input(\"Enter a number: \"))\n",
        "  print_divisors(user_input)\n",
        "\n",
        "if __name__ == \"__main__\":\n",
        "  main()"
      ],
      "metadata": {
        "colab": {
          "base_uri": "https://localhost:8080/"
        },
        "id": "kS-Q_sJ5vA88",
        "outputId": "137066cc-4eda-4930-c0ef-11c5aedc1929"
      },
      "execution_count": null,
      "outputs": [
        {
          "output_type": "stream",
          "name": "stdout",
          "text": [
            "Enter a number: 45\n",
            "Divisors of 45 are: \n",
            "1 3 5 9 15 45 "
          ]
        }
      ]
    },
    {
      "cell_type": "markdown",
      "source": [
        "**08 print_multiple**"
      ],
      "metadata": {
        "id": "noLhd0AxvEXb"
      }
    },
    {
      "cell_type": "code",
      "source": [
        "def main():\n",
        "  def print_multiple(message: str, repeats: int):\n",
        "    for _ in range(repeats):\n",
        "      print(message)\n",
        "\n",
        "  print_multiple(\"Python!\", 8)\n",
        "\n",
        "if __name__ == \"__main__\":\n",
        "  main()"
      ],
      "metadata": {
        "colab": {
          "base_uri": "https://localhost:8080/"
        },
        "id": "FZFOH56TvIfS",
        "outputId": "d57452f2-c559-4004-d30a-4952677eb0b0"
      },
      "execution_count": null,
      "outputs": [
        {
          "output_type": "stream",
          "name": "stdout",
          "text": [
            "Python!\n",
            "Python!\n",
            "Python!\n",
            "Python!\n",
            "Python!\n",
            "Python!\n",
            "Python!\n",
            "Python!\n"
          ]
        }
      ]
    },
    {
      "cell_type": "markdown",
      "source": [
        "**09 sentence_generator**"
      ],
      "metadata": {
        "id": "zp8-ZuKgvTyT"
      }
    },
    {
      "cell_type": "code",
      "source": [
        "def make_sentence(word, part_of_speech):\n",
        "  if part_of_speech == 0:\n",
        "        # noun\n",
        "        print(\"I am excited to add this \" + word + \" to my vast collection of them!\")\n",
        "  elif part_of_speech == 1:\n",
        "        # verb\n",
        "        print(\"It's so nice outside today it makes me want to \" + word + \"!\")\n",
        "  elif part_of_speech == 2:\n",
        "        # adjective\n",
        "        print(\"Looking out my window, the sky is big and \" + word + \"!\")\n",
        "  else:\n",
        "        # part_of_speech is invalid (not 0, 1, or 2)\n",
        "        print(\"Part of speech must be 0, 1, or 2! Can't make a sentence.\")\n",
        "\n",
        "\n",
        "def main():\n",
        "  user_input_word = input(\"Enter a word: \")\n",
        "  user_input_part_of_speech = int(input(\"Enter a part of speech (Type 0 for noun, 1 for verb, 2 for adjective): \"))\n",
        "  make_sentence(user_input_word, user_input_part_of_speech)\n",
        "\n",
        "if __name__ == \"__main__\":\n",
        "  main()"
      ],
      "metadata": {
        "colab": {
          "base_uri": "https://localhost:8080/"
        },
        "id": "4Dctp3l0vVc5",
        "outputId": "1d2057cd-0dcd-400b-b008-fa87de922d6b"
      },
      "execution_count": null,
      "outputs": [
        {
          "output_type": "stream",
          "name": "stdout",
          "text": [
            "Enter a word: memory\n",
            "Enter a part of speech (Type 0 for noun, 1 for verb, 2 for adjective): 2\n",
            "Looking out my window, the sky is big and memory!\n"
          ]
        }
      ]
    },
    {
      "cell_type": "markdown",
      "source": [
        "**10 print_ones_digit**"
      ],
      "metadata": {
        "id": "vnQyU-Ytvfni"
      }
    },
    {
      "cell_type": "code",
      "source": [
        "def print_ones_digit(num):\n",
        "  return num % 10\n",
        "\n",
        "\n",
        "def main():\n",
        "  user_input = int(input(\"Enter a number, to know its ones digit: \"))\n",
        "  print(print_ones_digit(user_input))\n",
        "\n",
        "if __name__ == \"__main__\":\n",
        "  main()\n"
      ],
      "metadata": {
        "colab": {
          "base_uri": "https://localhost:8080/"
        },
        "id": "AgbbVZfgvp04",
        "outputId": "a9a23697-1d52-430c-c281-6d886adea1e8"
      },
      "execution_count": null,
      "outputs": [
        {
          "output_type": "stream",
          "name": "stdout",
          "text": [
            "Enter a number, to know its ones digit: 56\n",
            "6\n"
          ]
        }
      ]
    },
    {
      "cell_type": "markdown",
      "source": [
        " **07_information_flow**"
      ],
      "metadata": {
        "id": "0cOUTyWev1Xh"
      }
    },
    {
      "cell_type": "markdown",
      "source": [
        "**00 choosing_returns**"
      ],
      "metadata": {
        "id": "IAZtTMWiv8vI"
      }
    },
    {
      "cell_type": "code",
      "source": [
        "ADULT_AGE = 18\n",
        "\n",
        "def main():\n",
        "\n",
        "  def adult_checker(age: int):\n",
        "    return age >= ADULT_AGE\n",
        "\n",
        "\n",
        "  user_input = int(input(\"Enter age to see you are adult or not: \"))\n",
        "  print(adult_checker(user_input))\n",
        "\n",
        "if __name__ == \"__main__\":\n",
        "  main()\n"
      ],
      "metadata": {
        "colab": {
          "base_uri": "https://localhost:8080/"
        },
        "id": "gkZliHf_v-Pp",
        "outputId": "153153cb-141b-417b-df1a-1d71f848e740"
      },
      "execution_count": null,
      "outputs": [
        {
          "output_type": "stream",
          "name": "stdout",
          "text": [
            "Enter age to see you are adult or not: 15\n",
            "False\n"
          ]
        }
      ]
    },
    {
      "cell_type": "markdown",
      "source": [
        "**01_greetings**"
      ],
      "metadata": {
        "id": "3ApLsMgbwIin"
      }
    },
    {
      "cell_type": "code",
      "source": [
        "def greet(name: str):\n",
        "  print(f\"Hello {name} !🤗\")\n",
        "\n",
        "def main():\n",
        "  user_input = input(\"Enter your name: \")\n",
        "  greet(user_input)\n",
        "\n",
        "if __name__ == \"__main__\":\n",
        "  main()"
      ],
      "metadata": {
        "colab": {
          "base_uri": "https://localhost:8080/"
        },
        "id": "tfHTFffxwN8w",
        "outputId": "31801c7e-0fc2-47e9-cf36-d03e68f78274"
      },
      "execution_count": null,
      "outputs": [
        {
          "output_type": "stream",
          "name": "stdout",
          "text": [
            "Enter your name: Nimra\n",
            "Hello Nimra !🤗\n"
          ]
        }
      ]
    },
    {
      "cell_type": "markdown",
      "source": [
        "**02 in_range**"
      ],
      "metadata": {
        "id": "DIhR10xjwf5o"
      }
    },
    {
      "cell_type": "code",
      "source": [
        "def in_range(n, low, high):\n",
        "  return low < n < high\n",
        "\n",
        "def main():\n",
        "  print(in_range(12, 6, 17))\n",
        "\n",
        "if __name__ == \"__main__\":\n",
        "  main()"
      ],
      "metadata": {
        "colab": {
          "base_uri": "https://localhost:8080/"
        },
        "id": "0gwQmsakwjMH",
        "outputId": "e63a174d-2f2e-4548-863d-2e8ff2d88f44"
      },
      "execution_count": null,
      "outputs": [
        {
          "output_type": "stream",
          "name": "stdout",
          "text": [
            "True\n"
          ]
        }
      ]
    },
    {
      "cell_type": "markdown",
      "source": [
        "**03 in_stock**"
      ],
      "metadata": {
        "id": "Yd2dk0jwwtIm"
      }
    },
    {
      "cell_type": "code",
      "source": [
        "def num_in_stock(fruit: str):\n",
        "  stock = {\n",
        "      \"apple\": 1500,\n",
        "      \"mango\": 550,\n",
        "      \"banana\": 1000,\n",
        "      \"orange\": 400\n",
        "  }\n",
        "\n",
        "  if fruit in stock:\n",
        "    return f\"{fruit} are {stock[fruit]}, available\"\n",
        "  else:\n",
        "    return f\"{fruit} not in stock\"\n",
        "\n",
        "def main():\n",
        "  user_input = input(\"Enter a fruit to check it's stock: \")\n",
        "  print(num_in_stock(user_input))\n",
        "\n",
        "\n",
        "if __name__ == \"__main__\":\n",
        "  main()"
      ],
      "metadata": {
        "colab": {
          "base_uri": "https://localhost:8080/"
        },
        "id": "de2KoOYDwx2e",
        "outputId": "1438c960-aa4d-4906-bcb2-801cb9b2b8d6"
      },
      "execution_count": null,
      "outputs": [
        {
          "output_type": "stream",
          "name": "stdout",
          "text": [
            "Enter a fruit to check it's stock: apple\n",
            "apple are 1500, available\n"
          ]
        }
      ]
    },
    {
      "cell_type": "markdown",
      "source": [
        "**04 multiple_returns**"
      ],
      "metadata": {
        "id": "myoiZKz7w-oO"
      }
    },
    {
      "cell_type": "code",
      "source": [
        "def get_user_data():\n",
        "  first_name = input(\"Enter your first name: \")\n",
        "  last_name = input(\"Enter your last name: \")\n",
        "  email = input(\"Enter your email address: \")\n",
        "\n",
        "  return first_name, last_name, email\n",
        "\n",
        "def main():\n",
        "  print(get_user_data())\n",
        "\n",
        "if __name__ == \"__main__\":\n",
        "  main()\n",
        "\n",
        "\n"
      ],
      "metadata": {
        "colab": {
          "base_uri": "https://localhost:8080/"
        },
        "id": "1IoF2wN2xCGO",
        "outputId": "06cd8793-c874-4c97-ae9d-117731af3167"
      },
      "execution_count": null,
      "outputs": [
        {
          "output_type": "stream",
          "name": "stdout",
          "text": [
            "Enter your first name: Nimra\n",
            "Enter your last name: AKram\n",
            "Enter your email address: nimra254@gmail.com\n",
            "('Nimra', 'AKram', 'nimra254@gmail.com')\n"
          ]
        }
      ]
    },
    {
      "cell_type": "markdown",
      "source": [
        "**05 subtract_7**"
      ],
      "metadata": {
        "id": "_N9hs0tPxQON"
      }
    },
    {
      "cell_type": "code",
      "source": [
        "def  subtract_seven(num):\n",
        "  return num - 7\n",
        "\n",
        "def main():\n",
        "  user_input = int(input(\"Enter a number: \"))\n",
        "  print(subtract_seven(user_input))\n",
        "\n",
        "if __name__ == \"__main__\":\n",
        "  main()"
      ],
      "metadata": {
        "colab": {
          "base_uri": "https://localhost:8080/"
        },
        "id": "ONpADV7JxRmt",
        "outputId": "5189582e-d754-40d7-cf7f-b6125309824a"
      },
      "execution_count": null,
      "outputs": [
        {
          "output_type": "stream",
          "name": "stdout",
          "text": [
            "Enter a number: 5\n",
            "-2\n"
          ]
        }
      ]
    }
  ]
}